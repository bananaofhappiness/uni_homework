{
 "cells": [
  {
   "cell_type": "markdown",
   "metadata": {
    "jukit_cell_id": "V2RLXE31Rv"
   },
   "source": [
    "#### Задача 1 (5 баллов).\n",
    "\n",
    "Реализуйте с помощью классов базу данных для ветеринарной клиники: нам нужно хранить сведения о питомцах, их хозяевах и датах приема. Видимо, нам понадобятся два класса: для владельцев животных и для самих животных. У владельца мы храним имя, фамилию и номер телефона. У животного пусть будет кличка, возраст и дополнительный атрибут \"записан на прием\", в котором будет храниться информация о дате следующего приема (если ее нет - None). База данных должна храниться в бинарном файле (используйте pickle или dill). При запуске программы должны быть доступны несколько действий: завести нового клиента, завести новое животное для существующего клиента и записать животное на прием (или отметить, что прием прошел и новой записи нет). Сами экземпляры клиентов хранятся просто в списке.\n",
    "\n",
    "Примечание: в атрибутах могут храниться не только строки, но и списки, но не забывайте об их особенностях."
   ]
  },
  {
   "cell_type": "code",
   "execution_count": 1,
   "metadata": {
    "jukit_cell_id": "mAOYPAvk5g"
   },
   "outputs": [],
   "source": [
    "import pickle\n",
    "from dataclasses import dataclass\n",
    "\n",
    "class Database:\n",
    "    def __init__(self):\n",
    "        self.owners: list[Owner] = []\n",
    "\n",
    "class Owner:\n",
    "    def __init__(self, first_name: str, last_name: str,\n",
    "                 phone_number: str):\n",
    "        self.first_name: str = first_name\n",
    "        self.last_name: str = last_name\n",
    "        self.phone_number: str = phone_number\n",
    "        self.pets: list[Pet] = []\n",
    "\n",
    "    def __str__(self):\n",
    "        return f\"Владелец: {self.first_name} {self.last_name}\\n\\\n",
    "Телефон: {self.phone_number}\\n\\\n",
    "Питомцы: {self.pets}\"\n",
    "\n",
    "\n",
    "class Pet:\n",
    "    def __init__(self, name: str, age: int,\n",
    "                 at_appointment: str = None):\n",
    "        self.name: str = name\n",
    "        self.age: int = age\n",
    "        self.at_appoitment: str | None = at_appointment\n",
    "\n",
    "    def __str__(self):\n",
    "        return f\"Питомец: {self.name},\\n\\\n",
    "Возраст: {self.age}\\n\\\n",
    "Прием: {self.at_appoitment}\\n\"\n",
    "\n",
    "    def __repr__(self):\n",
    "        return f\"Питомец: {self.name},\\n\\\n",
    "Возраст: {self.age}\\n\\\n",
    "Прием: {self.at_appoitment}\\n\"\n",
    "\n",
    "\n",
    "def choose_owner(db) -> int:\n",
    "    print(\"Выберите клиента цифрой:\")\n",
    "    for i, owner in enumerate(db.owners):\n",
    "        print(f\"{i + 1}: {owner.first_name} {owner.last_name}\")\n",
    "    while True:\n",
    "        try:\n",
    "            choise = int(input())\n",
    "            if choise > len(db.owners):\n",
    "                print(\"Нет такого клиента, попробуйте еще раз\")\n",
    "                continue\n",
    "            break\n",
    "        except ValueError:\n",
    "            print(\"Вы ввели не цифру, попробуйте еще раз\")\n",
    "    return choise - 1\n",
    "\n",
    "\n",
    "def choose_pet(owner: Owner) -> int:\n",
    "    print(\"Выберите питомца цифрой:\")\n",
    "    for i, pet in enumerate(owner.pets):\n",
    "        print(f\"{i + 1}: {pet.name}\")\n",
    "    while True:\n",
    "        try:\n",
    "            choise = int(input())\n",
    "            if choise > len(owner.pets):\n",
    "                print(\"Нет такого клиента, попробуйте еще раз\")\n",
    "                continue\n",
    "            break\n",
    "        except ValueError:\n",
    "            print(\"Вы ввели не цифру, попробуйте еще раз\")\n",
    "    return choise - 1"
   ]
  },
  {
   "cell_type": "code",
   "execution_count": null,
   "metadata": {
    "jukit_cell_id": "9h9FwXpzu1"
   },
   "outputs": [
    {
     "name": "stdin",
     "output_type": "stream",
     "text": [
      "Введите команду:\n",
      " помощь\n"
     ]
    },
    {
     "name": "stdout",
     "output_type": "stream",
     "text": [
      "Команды:\n",
      "\tПомощь\n",
      "\tВвести клиента\n",
      "\tДобавить питомца\n",
      "\tУдалить питомца\n",
      "\tВывести\n",
      "\tВыйти\n"
     ]
    },
    {
     "name": "stdin",
     "output_type": "stream",
     "text": [
      "Введите команду:\n",
      " ввести клиента\n",
      "Введите имя клиента, фамилию,и номер телефона через запятую:\n",
      " е, а, 1\n",
      "Введите команду:\n",
      " добавить питомца\n"
     ]
    },
    {
     "name": "stdout",
     "output_type": "stream",
     "text": [
      "Выберите клиента цифрой:\n",
      "1: е а\n"
     ]
    },
    {
     "name": "stdin",
     "output_type": "stream",
     "text": [
      " 1\n",
      "Введите имя питомца, возраст и дату осмотра (если есть) через запятую собака, 3\n",
      "Введите команду:\n",
      " вывести\n"
     ]
    },
    {
     "name": "stdout",
     "output_type": "stream",
     "text": [
      "Владелец: е а\n",
      "Телефон: 1\n",
      "Питомцы: [Питомец: е,\n",
      "Возраст: а\n",
      "Прием: 1\n",
      "]\n"
     ]
    },
    {
     "name": "stdin",
     "output_type": "stream",
     "text": [
      "Введите команду:\n",
      " добавить питомца\n"
     ]
    },
    {
     "name": "stdout",
     "output_type": "stream",
     "text": [
      "Выберите клиента цифрой:\n",
      "1: е а\n"
     ]
    },
    {
     "name": "stdin",
     "output_type": "stream",
     "text": [
      " 1\n",
      "Введите имя питомца, возраст и дату осмотра (если есть) через запятую кот, 4, 28.02.2025\n",
      "Введите команду:\n",
      " вывести\n"
     ]
    },
    {
     "name": "stdout",
     "output_type": "stream",
     "text": [
      "Владелец: е а\n",
      "Телефон: 1\n",
      "Питомцы: [Питомец: е,\n",
      "Возраст: а\n",
      "Прием: 1\n",
      ", Питомец: е,\n",
      "Возраст: а\n",
      "Прием: 1\n",
      "]\n"
     ]
    }
   ],
   "source": [
    "import os\n",
    "import pickle\n",
    "\n",
    "\n",
    "running_state = True\n",
    "path = os.path.join(\"HW04\", \"database.pkl\")\n",
    "\n",
    "if os.path.exists(path):\n",
    "    db = pickle.load(open(path, \"rb\"))\n",
    "else:\n",
    "    db = Database()\n",
    "\n",
    "while running_state:\n",
    "    user_input = input(\"Введите команду:\\n\")\n",
    "    match user_input.lower():\n",
    "        case \"помощь\":\n",
    "            print(\"Команды:\\n\\t\\\n",
    "Помощь\\n\\t\\\n",
    "Ввести клиента\\n\\t\\\n",
    "Добавить питомца\\n\\t\\\n",
    "Удалить питомца\\n\\t\\\n",
    "Вывести\\n\\t\\\n",
    "Выйти\")\n",
    "        case \"выйти\":\n",
    "            pickle.dump(db, open(path, \"w\"))\n",
    "            running_state = False\n",
    "        case \"ввести клиента\":\n",
    "            user_input = input(\"Введите имя клиента, фамилию,\\\n",
    "и номер телефона через запятую:\\n\")\n",
    "            owner_data = user_input.split(\", \")\n",
    "            owner = Owner(*owner_data)\n",
    "            db.owners.append(owner)\n",
    "        case \"добавить питомца\":\n",
    "            choise = choose_owner(db)\n",
    "            user_input = input(\"Введите имя питомца, возраст и дату осмотра (если есть) через запятую\")\n",
    "            pet_data = user_input.split(\", \")\n",
    "            pet = Pet(*owner_data)\n",
    "            db.owners[choise].pets.append(pet)\n",
    "        case \"удалить питомца\":\n",
    "            choise = choose_owner(db)\n",
    "            pet_choise = choose_pet(db.owners[choise])\n",
    "            db.owners[choise].pets.pop(pet_choise)\n",
    "        case \"изменить дату осмотра\":\n",
    "            choise = choose_owner(db)\n",
    "            pet_choise = choose_pet(db.owners[choise])\n",
    "            user_input = input(\"Введите дату осмотра или нажмите энтер для удаления\")\n",
    "            if user_input == \"\\n\":\n",
    "                user_input = None\n",
    "            db.owners[choise].pets[pet_choise].at_appoitment = user_input\n",
    "        case \"вывести\":\n",
    "            for owner in db.owners:\n",
    "                print(owner)"
   ]
  },
  {
   "cell_type": "markdown",
   "metadata": {
    "jukit_cell_id": "o9eFA8kRQb"
   },
   "source": [
    "#### Задача 2 (5 баллов).\n",
    "\n",
    "Хотим написать программу - базу данных для библиотеки. Нам понадобится класс \"книга\", который будет содержать автора, название, жанр и количество страниц; а также класс \"библиотека\", в котором в атрибутах будут сидеть все наши книги. В библиотеку будут поступать запросы: нужно будет выдавать перечень всех книг одного автора, перечень всех книг конкретного жанра, а также проверять, что книга такого автора и с таким названием есть (вам хорошо помогут генераторные выражения для всех этих вещей, а еще можно переопределить магический метод \\_\\_eq\\_\\_ у класса \"книга\" - он должен возвращать bool, а внутри него можно сравнивать атрибуты экземпляров self и other - и проверять наличие объекта класса \"книга\" в списке). Магический метод \\_\\_eq\\_\\_ неявным образом вызывается, когда вы сравниваете два объекта: например, сравниваете две книжки. Он будет неявно вызываться и тогда, когда вы проверяете наличие какого-то объекта в списке таких же объектов с помощью оператора in. "
   ]
  },
  {
   "cell_type": "code",
   "execution_count": null,
   "metadata": {
    "jukit_cell_id": "zr6O1PqLtC"
   },
   "outputs": [],
   "source": [
    "# your code here"
   ]
  },
  {
   "cell_type": "markdown",
   "metadata": {
    "jukit_cell_id": "H3QlCkRwtS"
   },
   "source": [
    "#### Задача 3 (5 баллов). \n",
    "\n",
    "Представим себе, что мы хотим написать игрушку, в которой главный персонаж ходит по карте и с каждым броском кубика ему выпадают разнообразные предметы, с которыми он может взаимодействовать. Нам, очевидно, понадобится хранить все результаты взаимодействия в классе персонажа, а также написать хотя бы три различных предмета, которые умеют делать разные вещи (пусть будет волшебное зелье, книжка, прибавляющая мудрость, и медвежий капкан; можете что-то свое придумать). У персонажа есть свои характеристики, которые тоже могут влиять на результат взаимодействия с вещами (очень тупой персонаж может не смочь прочитать книжку...). \n",
    "\n",
    "Бонусный балл: напишите класс для карты, у которого будет метод с собственно циклом, где кидается наш \"кубик\" и персонаж перемещается, подбирая предметы. \n",
    "\n",
    "Для рандомизации используем библиотеку random. Также можно использовать функцию sleep из библиотеки time: эта функция заставляет компьютер ждать x секунд. "
   ]
  },
  {
   "cell_type": "code",
   "execution_count": null,
   "metadata": {
    "jukit_cell_id": "fZJOZjY6kk"
   },
   "outputs": [],
   "source": [
    "from random import randint # функция генерирует любое случайное число от х до у: randint(x, y)\n",
    "from time import sleep # sleep(1) - ждать 1 секунду\n",
    "\n",
    "class Hero:\n",
    "    def __init__(self, *args): # замените *args на свои параметры\n",
    "        # your code here\n",
    "        \n",
    "    def __repr__(self):\n",
    "        # your code here\n",
    "    \n",
    "    def interact(self, obj):\n",
    "        # your code here\n",
    "        \n",
    "class Potion:\n",
    "    def __init__(self, *args):\n",
    "        # your code here \n",
    "        \n",
    "    def __repr__(self):\n",
    "        #your code here \n",
    "        \n",
    "...\n",
    "\n",
    "class Map:\n",
    "    def __init__(self):\n",
    "        self.hero = Hero()\n",
    "        # your code here \n",
    "        \n",
    "    def travel(self):\n",
    "        # your code here"
   ]
  }
 ],
 "metadata": {
  "anaconda-cloud": {},
  "kernelspec": {
   "display_name": "Python 3 (ipykernel)",
   "language": "python",
   "name": "python3"
  },
  "language_info": {
   "codemirror_mode": {
    "name": "ipython",
    "version": 3
   },
   "file_extension": ".py",
   "mimetype": "text/x-python",
   "name": "python",
   "nbconvert_exporter": "python",
   "pygments_lexer": "ipython3",
   "version": "3.13.0"
  }
 },
 "nbformat": 4,
 "nbformat_minor": 4
}
