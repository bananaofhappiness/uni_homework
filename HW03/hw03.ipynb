{
  "cells": [
    {
      "cell_type": "code",
      "metadata": {
        "jukit_cell_id": "mqs2wmiIra"
      },
      "source": [
        "def string_to_list_decorator(data_type=None):\n",
        "    # \u0415\u0441\u043b\u0438 int, \u0442\u043e \u0434\u0435\u043b\u0430\u0435\u043c int()\n",
        "    if data_type == int:\n",
        "        def _string_to_list_decorator(func):\n",
        "            def inner(*args):\n",
        "                inner_args = []\n",
        "                for arg in args:\n",
        "                    if type(arg) is str:\n",
        "                        arg = [int(inner_arg) for inner_arg in arg.split()]\n",
        "                    inner_args.append(arg)\n",
        "                    return func(*inner_args)\n",
        "            return inner\n",
        "        return _string_to_list_decorator\n",
        "    # \u0418\u043d\u0430\u0447\u0435 \u043c\u044b \u0434\u043e\u043f\u0443\u0441\u043a\u0430\u0435\u043c, \u0447\u0442\u043e \u043f\u0440\u043e\u0433\u0440\u0430\u043c\u043c\u0430 \u0440\u0430\u0431\u043e\u0442\u0430\u0435\u0442 \u043d\u0435 \u0442\u043e\u043b\u044c\u043a\u043e \u0441\u043e \u0441\u043f\u0438\u0441\u043a\u043e\u043c \u0447\u0438\u0441\u0435\u043b, \u0430 \u0441 \u043b\u044e\u0431\u044b\u043c \u0441\u043f\u0438\u0441\u043a\u043e\u043c\n",
        "    # \u042f \u043d\u0435 \u0434\u043e\u0431\u0430\u0432\u043b\u044f\u044e \u0434\u043e\u043f\u043e\u043b\u043d\u0438\u0442\u0435\u043b\u044c\u043d\u044b\u0445 \u0443\u0441\u043b\u043e\u0432\u0438\u0439, \u0442\u0430\u043a \u043a\u0430\u043a \u043a\u0440\u043e\u043c\u0435 int \u043d\u0438\u0447\u0435\u0433\u043e \u0438 \u043d\u0435 \u043d\u0443\u0436\u043d\u043e \u0434\u043b\u044f \u0437\u0430\u0434\u0430\u0447"
      ],
      "outputs": [],
      "execution_count": null
    },
    {
      "cell_type": "markdown",
      "metadata": {
        "jukit_cell_id": "NErIs7On0C"
      },
      "source": [
        "#### \u0417\u0430\u0434\u0430\u0447\u0430 1.\n",
        "\n",
        "\u0412\u0432\u043e\u0434\u0438\u0442\u0441\u044f \u0441\u043f\u0438\u0441\u043e\u043a \u0447\u0438\u0441\u0435\u043b \u0447\u0435\u0440\u0435\u0437 \u043f\u0440\u043e\u0431\u0435\u043b. \u041f\u043e\u043c\u0435\u043d\u044f\u0439\u0442\u0435 \u0432 \u044d\u0442\u043e\u043c \u0441\u043f\u0438\u0441\u043a\u0435 \u0441\u0430\u043c\u043e\u0435 \u043c\u0430\u043b\u0435\u043d\u044c\u043a\u043e\u0435 \u0438 \u0441\u0430\u043c\u043e\u0435 \u0431\u043e\u043b\u044c\u0448\u043e\u0435 \u0447\u0438\u0441\u043b\u043e \u043c\u0435\u0441\u0442\u0430\u043c\u0438, \u043d-\u0440, \u0441\u043f\u0438\u0441\u043e\u043a 4 2 6 3 7 5 \u0434\u043e\u043b\u0436\u0435\u043d \u043f\u0440\u0435\u0432\u0440\u0430\u0442\u0438\u0442\u044c\u0441\u044f \u0432 4 7 6 3 2 5"
      ]
    },
    {
      "cell_type": "code",
      "metadata": {
        "jukit_cell_id": "jNyc9mFY0H"
      },
      "source": [
        "@string_to_list_decorator(int)\n",
        "def swap_min_max(lst: list) -> list:\n",
        "    min = max = None\n",
        "    for i in lst:\n",
        "        if min is None and max is None:\n",
        "            min = max = lst[i]\n",
        "\n",
        "        if i < min:\n",
        "            min = i\n",
        "        if i > max:\n",
        "            max = i\n",
        "\n",
        "    imin = lst.index(min)\n",
        "    imax = lst.index(max)\n",
        "\n",
        "    lst[imin], lst[imax] = lst[imax], lst[imin]\n",
        "    return lst"
      ],
      "outputs": [],
      "execution_count": null
    },
    {
      "cell_type": "code",
      "metadata": {
        "jukit_cell_id": "JSXFCyf3MV"
      },
      "source": [
        "assert swap_min_max([4, 2, 6, 3, 7, 5]) == [4, 7, 6, 3, 2, 5]\n",
        "\n",
        "lst = [-1, 2, -100, 1_000_000_000, 4]\n",
        "swap_min_max(lst)\n",
        "assert lst == [-1, 2, 1_000_000_000, -100, 4]\n",
        "\n",
        "assert swap_min_max(\"1 2 3 4 5 6\") == [6, 2, 3, 4, 5, 1]\n",
        "\n",
        "\"Tests passed\""
      ],
      "outputs": [
        {
          "data": {
            "text/plain": [
              "'Tests passed'"
            ]
          },
          "execution_count": 1,
          "metadata": {},
          "output_type": "execute_result"
        }
      ],
      "execution_count": 1
    },
    {
      "cell_type": "markdown",
      "metadata": {
        "jukit_cell_id": "lFllmq0ZiX"
      },
      "source": [
        "#### \u0417\u0430\u0434\u0430\u0447\u0430 2. \n",
        "\n",
        "\u0412\u0432\u043e\u0434\u0438\u0442\u0441\u044f \u0441\u043f\u0438\u0441\u043e\u043a (\u0447\u0435\u0433\u043e \u0443\u0433\u043e\u0434\u043d\u043e, \u043a\u0430\u043a \u0443\u0433\u043e\u0434\u043d\u043e). \u041d\u0443\u0436\u043d\u043e \u0432\u0441\u0435 \u044d\u043b\u0435\u043c\u0435\u043d\u0442\u044b \u043f\u043e\u043c\u0435\u043d\u044f\u0442\u044c \u043c\u0435\u0441\u0442\u0430\u043c\u0438, \u043d-\u0440, \u0441\u043f\u0438\u0441\u043e\u043a \u0432\u0438\u0434\u0430 1 2 3 4 5 \u043f\u0440\u0435\u0432\u0440\u0430\u0449\u0430\u0435\u0442\u0441\u044f \u0432 2 1 4 3 5. "
      ]
    },
    {
      "cell_type": "code",
      "metadata": {
        "jukit_cell_id": "u5G8Ju5ONJ"
      },
      "source": [
        "@string_to_list_decorator(int)\n",
        "def swap(lst: list) -> list:\n",
        "    res = lst[1::2]\n",
        "    for i in range(len(lst)):\n",
        "        if i % 2 == 0:\n",
        "            res[i+1:i+1] = lst[i:i+1]\n",
        "    return res"
      ],
      "outputs": [],
      "execution_count": null
    },
    {
      "cell_type": "code",
      "metadata": {
        "jukit_cell_id": "5HWLOmPLRc"
      },
      "source": [
        "assert swap([1, 2, 3, 4, 5]) == [2, 1, 4, 3, 5]\n",
        "assert swap([1, 2, 3, 4, 5, 6]) == [2, 1, 4, 3, 6, 5]\n",
        "assert swap([1]) == [1]\n",
        "assert swap([]) == []\n",
        "assert swap(\"1 2 3 4 5\") == [2, 1, 4, 3, 5]\n",
        "assert swap(\"1 2 3 4 5 6\") == [2, 1, 4, 3, 6, 5]\n",
        "print(\"Tests passed\")"
      ],
      "outputs": [
        {
          "name": "stdout",
          "output_type": "stream",
          "text": [
            "Tests passed\n"
          ]
        }
      ],
      "execution_count": 2
    },
    {
      "cell_type": "code",
      "metadata": {
        "jukit_cell_id": "CiPAsgXfmW"
      },
      "source": [
        "# \u0412\u0442\u043e\u0440\u043e\u0435 \u0440\u0435\u0448\u0435\u043d\u0438\u0435, \u043d\u0435 \u0432\u043e\u0437\u0432\u0440\u0430\u0449\u0430\u0435\u0442 \u043d\u0438\u0447\u0435\u0433\u043e\n",
        "# \u0411\u0435\u0437 \u0434\u0435\u043a\u043e\u0440\u0430\u0442\u043e\u0440\u0430, \u0432\u0435\u0434\u044c str \u043d\u0435\u043c\u0443\u0442\u0430\u0431\u0435\u043b\u044c\u043d\u044b\n",
        "# \u041d\u043e \u0442\u043e\u0433\u0434\u0430 \u0440\u0435\u0448\u0435\u043d\u0438\u0435 \u0442\u043e\u0436\u0435 \u043d\u0435 \u043e\u0447\u0435\u043d\u044c \u043f\u043e\u043b\u043d\u043e\u0435, \u0432\u0435\u0434\u044c \u043d\u0435\u043b\u044c\u0437\u044f \u0432\u0432\u0435\u0441\u0442\u0438 \u0447\u0438\u0441\u043b\u0430 \u0447\u0435\u0440\u0435\u0437 \u043f\u0440\u043e\u0431\u0435\u043b\n",
        "# \u0410 \u0432 \u0443\u0441\u043b\u043e\u0432\u0438\u0438 \u0447\u0438\u0441\u043b\u0430 \u0432\u0432\u043e\u0434\u044f\u0442\u0441\u044f \u043a\u0430\u043a \u0443\u0433\u043e\u0434\u043d\u043e\n",
        "def swap(lst: list):\n",
        "    for i in range(len(lst) // 2):\n",
        "        lst[i * 2], lst[i * 2 + 1] = lst[i * 2 + 1], lst[i * 2]"
      ],
      "outputs": [],
      "execution_count": null
    },
    {
      "cell_type": "code",
      "metadata": {
        "jukit_cell_id": "3nf7gLnNZI"
      },
      "source": [
        "lst = [1, 2, 3, 4, 5]\n",
        "swap(lst)\n",
        "assert lst == [2, 1, 4, 3, 5]\n",
        "\n",
        "lst = [1, 2, 3, 4, 5, 6]\n",
        "swap(lst)\n",
        "assert lst == [2, 1, 4, 3, 6, 5]\n",
        "\n",
        "lst = [1]\n",
        "swap(lst)\n",
        "assert lst == [1]\n",
        "\n",
        "lst = []\n",
        "swap(lst)\n",
        "assert lst == []\n",
        "\n",
        "\"Tests passed\""
      ],
      "outputs": [
        {
          "data": {
            "text/plain": [
              "'Tests passed'"
            ]
          },
          "execution_count": 3,
          "metadata": {},
          "output_type": "execute_result"
        }
      ],
      "execution_count": 3
    },
    {
      "cell_type": "markdown",
      "metadata": {
        "jukit_cell_id": "YtmEGJ9b0Z"
      },
      "source": [
        "#### \u0417\u0430\u0434\u0430\u0447\u0430 3.\n",
        "\n",
        "\u0414\u0430\u043d \u0441\u043f\u0438\u0441\u043e\u043a. \u0423\u0434\u0430\u043b\u0438\u0442\u0435 \u0438\u0437 \u0441\u043f\u0438\u0441\u043a\u0430 \u0432\u0441\u0435 \u043f\u043e\u0432\u0442\u043e\u0440\u044b, \u0442\u043e \u0435\u0441\u0442\u044c, \u043e\u0441\u0442\u0430\u0432\u044c\u0442\u0435 \u0432 \u0441\u043f\u0438\u0441\u043a\u0435 \u043a\u0430\u0436\u0434\u044b\u0439 \u044d\u043b\u0435\u043c\u0435\u043d\u0442 \u0442\u043e\u043b\u044c\u043a\u043e \u0432 \u043e\u0434\u043d\u043e\u043c \u044d\u043a\u0437\u0435\u043c\u043f\u043b\u044f\u0440\u0435 (\u043e\u0441\u0442\u0430\u0442\u044c\u0441\u044f \u0434\u043e\u043b\u0436\u043d\u043e \u0442\u043e\u043b\u044c\u043a\u043e \u043f\u0435\u0440\u0432\u043e\u0435 \u043f\u043e\u044f\u0432\u043b\u0435\u043d\u0438\u0435 \u044d\u043b\u0435\u043c\u0435\u043d\u0442\u0430 \u0432 \u0441\u043f\u0438\u0441\u043a\u0435). \u041f\u0440\u043e\u0433\u0440\u0430\u043c\u043c\u0430 \u043d\u0435 \u0434\u043e\u043b\u0436\u043d\u0430 \u0438\u0441\u043f\u043e\u043b\u044c\u0437\u043e\u0432\u0430\u0442\u044c \u0434\u043e\u043f\u043e\u043b\u043d\u0438\u0442\u0435\u043b\u044c\u043d\u0443\u044e \u043f\u0430\u043c\u044f\u0442\u044c: \u044d\u0442\u043e \u043e\u0437\u043d\u0430\u0447\u0430\u0435\u0442, \u0447\u0442\u043e \u043d\u0435\u043b\u044c\u0437\u044f \u043f\u043e\u043b\u044c\u0437\u043e\u0432\u0430\u0442\u044c\u0441\u044f \u043c\u043d\u043e\u0436\u0435\u0441\u0442\u0432\u0430\u043c\u0438 \u0438 \u0433\u0435\u043d\u0435\u0440\u0430\u0442\u043e\u0440\u0430\u043c\u0438, \u043c\u043e\u0436\u043d\u043e \u0442\u043e\u043b\u044c\u043a\u043e \u043f\u0440\u043e\u0438\u0437\u0432\u043e\u0434\u0438\u0442\u044c \u0438\u0437\u043c\u0435\u043d\u0435\u043d\u0438\u044f \u0432 \u0441\u0430\u043c\u043e\u043c \u0441\u043f\u0438\u0441\u043a\u0435. "
      ]
    },
    {
      "cell_type": "code",
      "metadata": {
        "jukit_cell_id": "f0OkiZ9Ij3"
      },
      "source": [
        "def delete_duplicates(lst: list) -> list:\n",
        "    i = 0\n",
        "    # \u0418\u043d\u0432\u0435\u0440\u0442\u0438\u0440\u0443\u0435\u043c \u0446\u0438\u043a\u043b, \u0447\u0442\u043e\u0431\u044b \u043c\u0435\u0442\u043e\u0434 remove \u0443\u0434\u0430\u043b\u044f\u043b \u043f\u043e\u0441\u043b\u0435\u0434\u043d\u0438\u0435 \u043f\u043e\u044f\u0432\u043b\u0435\u043d\u0438\u044f \u044d\u043b\u0435\u043c\u0435\u043d\u0442\u0430 \u0432 \u0441\u043f\u0438\u0441\u043a\u0435\n",
        "    lst = lst[::-1]\n",
        "    while i < len(lst):\n",
        "        # \u041e\u0442\u0434\u0435\u043b\u044c\u043d\u043e \u0437\u0430\u043f\u043e\u043c\u0438\u043d\u0430\u0435\u043c \u0437\u043d\u0430\u0447\u0435\u043d\u0438\u0435, \u043a\u043e\u0442\u043e\u0440\u043e\u0435 \u043d\u0430\u0434\u043e \u0443\u0434\u0430\u043b\u0438\u0442\u044c, \u0447\u0442\u043e\u0431\u044b \u0446\u0438\u043a\u043b \u043d\u0435 \u0437\u0430\u0432\u0438\u0441\u0435\u043b \u043e\u0442 i\n",
        "        # \u0412\u0435\u0434\u044c i \u043c\u0435\u043d\u044f\u0435\u0442\u0441\u044f \u0432\u043d\u0443\u0442\u0440\u0438 \u0446\u0438\u043a\u043b\n",
        "        to_remove = lst[i]\n",
        "        add_one = True\n",
        "        for j in range(lst.count(to_remove) - 1):\n",
        "            lst.remove(to_remove)\n",
        "            # \u0415\u0441\u043b\u0438 \u0446\u0438\u043a\u043b \u0437\u0430\u043f\u0443\u0441\u0442\u0438\u043b\u0441\u044f, \u0442\u043e \u043c\u0435\u043d\u044f\u0435\u043c add_one \u043d\u0430 False, \u0447\u0442\u043e\u0431\u044b \u043d\u0435 \u043f\u0440\u0438\u0431\u0430\u0432\u043b\u044f\u0442\u044c 1 \u043a i\n",
        "            # \u0412\u0435\u0434\u044c i \u043a\u0430\u043a \u0431\u044b \u0441\u0430\u043c\u043e \u0441\u0434\u0432\u0438\u043d\u0435\u0442\u0441\u044f, \u0432\u0435\u0434\u044c \u043c\u0435\u0442\u043e\u0434 remove \u0443\u0434\u0430\u043b\u0438\u0442 \u043f\u0435\u0440\u0432\u044b\u0439 \u044d\u043b\u0435\u043c\u0435\u043d\u0442\n",
        "            add_one = False\n",
        "        i += add_one\n",
        "    return lst[::-1]"
      ],
      "outputs": [],
      "execution_count": null
    },
    {
      "cell_type": "code",
      "metadata": {
        "jukit_cell_id": "rF3i0Smstk"
      },
      "source": [
        "assert delete_duplicates([1, 2, 3, 4] * 5) == [1, 2, 3, 4]\n",
        "assert delete_duplicates([1, 2, 3, 1] * 5) == [1, 2, 3]\n",
        "assert delete_duplicates([1, 2, 1, 3, 2, 4]) == [1, 2, 3, 4]\n",
        "assert delete_duplicates([1] * 20) == [1]\n",
        "assert delete_duplicates([] * 3) == []\n",
        "\n",
        "# \u041f\u0440\u043e\u0432\u0435\u0440\u043a\u0430, \u0447\u0442\u043e \u043e\u0441\u0442\u0430\u0435\u0442\u0441\u044f \u043b\u0438\u0448\u044c \u043f\u0435\u0440\u0432\u043e\u0435 \u043f\u043e\u044f\u0432\u043b\u0435\u043d\u0438\u0435 \u044d\u043b\u0435\u043c\u0435\u043d\u0442\u0430\n",
        "assert delete_duplicates([2, 1, 2, 1, 3, 2]) == [2, 1, 3]\n",
        "assert delete_duplicates([2, 1, 2, 1, 3, 2, 2, 4, 3, 1]) == [2, 1, 3, 4]\n",
        "print(\"Tests passed\")"
      ],
      "outputs": [
        {
          "output_type": "stream",
          "name": "stdout",
          "text": "Tests passed\n"
        }
      ],
      "execution_count": 4
    },
    {
      "cell_type": "markdown",
      "metadata": {
        "jukit_cell_id": "PrsDPrg4JV"
      },
      "source": [
        "#### \u0417\u0430\u0434\u0430\u0447\u0430 4.\n",
        "\n",
        "\u041d\u0430 \u0432\u0445\u043e\u0434 \u043f\u0440\u043e\u0433\u0440\u0430\u043c\u043c\u0435 \u0434\u0430\u0451\u0442\u0441\u044f \u0447\u0438\u0441\u043b\u043e N \u0438 \u0441\u043f\u0438\u0441\u043e\u043a. \u0423\u0434\u0430\u043b\u0438\u0442\u0435 \u0438\u0437 \u0441\u043f\u0438\u0441\u043a\u0430 \u0432\u0441\u0435 \u044d\u043b\u0435\u043c\u0435\u043d\u0442\u044b, \u043a\u043e\u0442\u043e\u0440\u044b\u0435 \u0432\u0441\u0442\u0440\u0435\u0447\u0430\u044e\u0442\u0441\u044f \u0432 \u043d\u0451\u043c \u0440\u043e\u0432\u043d\u043e N \u0440\u0430\u0437. \u041f\u0440\u043e\u0433\u0440\u0430\u043c\u043c\u0430 \u043d\u0435 \u0434\u043e\u043b\u0436\u043d\u0430 \u0438\u0441\u043f\u043e\u043b\u044c\u0437\u043e\u0432\u0430\u0442\u044c \u0434\u043e\u043f\u043e\u043b\u043d\u0438\u0442\u0435\u043b\u044c\u043d\u0443\u044e \u043f\u0430\u043c\u044f\u0442\u044c."
      ]
    },
    {
      "cell_type": "code",
      "metadata": {
        "jukit_cell_id": "ZuxxB9UsKW"
      },
      "source": [
        "def delete_count(lst: list, count: int) -> list:\n",
        "    i = 0\n",
        "    while i < len(lst):\n",
        "        to_remove = lst[i]\n",
        "        add_one = True\n",
        "\n",
        "        if lst.count(to_remove) == count:\n",
        "            for j in range(lst.count(to_remove)):\n",
        "                lst.remove(to_remove)\n",
        "            add_one = False\n",
        "        i += add_one\n",
        "    return lst"
      ],
      "outputs": [],
      "execution_count": null
    },
    {
      "cell_type": "code",
      "metadata": {
        "jukit_cell_id": "iYTiIuOF7z"
      },
      "source": [
        "assert delete_count([1, 2, 3, 3, 3, 2, 1], 3) == [1, 2, 2, 1]\n",
        "assert delete_count([1, 1, 2, 3, 4] * 10, 20) == [2, 3, 4] * 10\n",
        "assert delete_count([1, 2, 3] * 10, 4) == [1, 2, 3] * 10\n",
        "assert delete_count([2, 1, 2, 3] * 10, 20) == [1, 3] * 10\n",
        "print(\"Tests passed\")"
      ],
      "outputs": [
        {
          "output_type": "stream",
          "name": "stdout",
          "text": "Tests passed\n"
        }
      ],
      "execution_count": 5
    },
    {
      "cell_type": "markdown",
      "metadata": {
        "jukit_cell_id": "6D0Pwz5WgQ"
      },
      "source": [
        "#### \u0417\u0430\u0434\u0430\u0447\u0430 5 (2 \u0431\u0430\u043b\u043b\u0430). \n",
        "\n",
        "\u041d\u0430 \u0432\u0445\u043e\u0434 \u043f\u0440\u043e\u0433\u0440\u0430\u043c\u043c\u0435 \u0434\u0430\u0451\u0442\u0441\u044f \u0447\u0438\u0441\u043b\u043e X \u0438 \u0441\u043f\u0438\u0441\u043e\u043a \u0447\u0438\u0441\u0435\u043b. \u0423\u0434\u0430\u043b\u0438\u0442\u0435 \u0438\u0437 \u0441\u043f\u0438\u0441\u043a\u0430 \u0432\u0441\u0435 \u0432\u0445\u043e\u0436\u0434\u0435\u043d\u0438\u044f \u044d\u043b\u0435\u043c\u0435\u043d\u0442\u0430 X. \u041f\u0440\u043e\u0433\u0440\u0430\u043c\u043c\u0430 \u0434\u043e\u043b\u0436\u043d\u0430 \u0440\u0430\u0431\u043e\u0442\u0430\u0442\u044c \u0437\u0430 \u043b\u0438\u043d\u0435\u0439\u043d\u043e\u0435 \u0432\u0440\u0435\u043c\u044f. \u041f\u0440\u043e\u0433\u0440\u0430\u043c\u043c\u0430 \u043d\u0435 \u0434\u043e\u043b\u0436\u043d\u0430 \u0438\u0441\u043f\u043e\u043b\u044c\u0437\u043e\u0432\u0430\u0442\u044c \u0434\u043e\u043f\u043e\u043b\u043d\u0438\u0442\u0435\u043b\u044c\u043d\u0443\u044e \u043f\u0430\u043c\u044f\u0442\u044c. \u041a\u043e\u0434 \u0434\u043b\u044f \u043f\u0440\u043e\u0432\u0435\u0440\u043a\u0438 \u043d\u0430 \u043b\u0438\u043d\u0435\u0439\u043d\u043e\u0441\u0442\u044c \u0443\u0436\u0435 \u0432\u043f\u0438\u0441\u0430\u043d (\u0435\u0441\u043b\u0438 \u043c\u0435\u043d\u044f\u0435\u0442\u0435 D \u0441 10000 \u043d\u0430 100000, \u0432\u0440\u0435\u043c\u044f \u0434\u043e\u043b\u0436\u043d\u043e \u0443\u0432\u0435\u043b\u0438\u0447\u0438\u0442\u044c\u0441\u044f \u043d\u0435 \u0431\u043e\u043b\u044c\u0448\u0435 \u0447\u0435\u043c \u0432 10 \u0440\u0430\u0437). \u0422\u0430\u043a\u0443\u044e \u043f\u0440\u043e\u0432\u0435\u0440\u043a\u0443 \u043c\u043e\u0436\u043d\u043e \u0438\u0441\u043f\u043e\u043b\u044c\u0437\u043e\u0432\u0430\u0442\u044c \u0438 \u0432 \u0441\u043a\u0440\u0438\u043f\u0442\u0435 .py. filter \u0438\u0441\u043f\u043e\u043b\u044c\u0437\u043e\u0432\u0430\u0442\u044c \u043d\u0435\u043b\u044c\u0437\u044f. "
      ]
    },
    {
      "cell_type": "code",
      "metadata": {
        "jukit_cell_id": "2F7w6Q7vUD"
      },
      "source": [
        "import time\n",
        "\n",
        "D = int(input())\n",
        "L = [1, 2, 1, 2, 3, 4, 5, 6] * D\n",
        "N = int(input())\n",
        "# \u041d\u0435 \u0434\u0435\u043b\u0430\u044e raise Exception, \u0435\u0441\u043b\u0438 N \u043d\u0435 \u0432 L, \u0442\u0430\u043a \u043a\u0430\u043a \u043f\u0440\u043e\u0433\u0440\u0430\u043c\u043c\u0430 \u0438 \u0442\u0430\u043a \u0441\u043b\u043e\u043c\u0430\u0435\u0442\u0441\u044f\n",
        "t = time.time()\n",
        "\n",
        "# \u0420\u0435\u0448\u0435\u043d\u0438\u0435 1\n",
        "# \u041d\u0438 \u0441\u043b\u043e\u0432\u0430 \u043d\u0435 \u0431\u044b\u043b\u043e \u043f\u0440\u043e \u0442\u043e, \u0447\u0442\u043e \u0441\u043f\u0438\u0441\u043e\u043a \u0434\u043e\u043b\u0436\u0435\u043d \u043e\u0441\u0442\u0430\u0442\u044c\u0441\u044f \u0442\u0435\u043c \u0436\u0435\n",
        "# \u041f\u043e\u044d\u0442\u043e\u043c\u0443 \u044f \u0435\u0433\u043e \u043e\u0442\u0441\u043e\u0440\u0442\u0438\u0440\u043e\u0432\u0430\u043b\n",
        "# \u041d\u043e \u0440\u0435\u0448\u0435\u043d\u0438\u0435, \u043a\u043e\u043d\u0435\u0447\u043d\u043e, \u043d\u0435 \u043f\u043e\u0434\u0445\u043e\u0434\u0438\u0442, \u0435\u0441\u043b\u0438 \u0441\u043f\u0438\u0441\u043e\u043a \u0434\u043e\u043b\u0436\u0435\u043d \u043e\u0441\u0442\u0430\u0442\u044c\u0441\u044f \u0442\u0435\u043c \u0436\u0435\n",
        "L.sort()\n",
        "i = L.index(N)\n",
        "L.reverse()\n",
        "i2 = L.index(N)\n",
        "L.reverse()\n",
        "L[i:i2] = []\n",
        "\n",
        "print(time.time() - t)\n",
        "print(L[:30])"
      ],
      "outputs": [
        {
          "output_type": "stream",
          "name": "stdout",
          "text": "0.05575442314147949\n[1, 1, 1, 1, 1, 1, 1, 1, 1, 1, 1, 1, 1, 1, 1, 1, 1, 1, 1, 1, 1, 1, 1, 1, 1, 1, 1, 1, 1, 1]\n"
        }
      ],
      "execution_count": 6
    },
    {
      "cell_type": "code",
      "metadata": {
        "jukit_cell_id": "uOnDFTDXkz"
      },
      "source": [
        "import time\n",
        "\n",
        "D = int(input())\n",
        "L = [1, 2, 1, 2, 3, 4, 5, 6] * D\n",
        "N = int(input())\n",
        "# \u041d\u0435 \u0434\u0435\u043b\u0430\u044e raise Exception, \u0435\u0441\u043b\u0438 N \u043d\u0435 \u0432 L, \u0442\u0430\u043a \u043a\u0430\u043a \u043f\u0440\u043e\u0433\u0440\u0430\u043c\u043c\u0430 \u0438 \u0442\u0430\u043a \u0441\u043b\u043e\u043c\u0430\u0435\u0442\u0441\u044f\n",
        "t = time.time()\n",
        "\n",
        "# \u0420\u0435\u0448\u0435\u043d\u0438\u0435 2\n",
        "# \u041a\u0430\u043a \u043e\u043a\u0430\u0437\u0430\u043b\u043e\u0441\u044c, \u044d\u0442\u043e \u043f\u0440\u043e\u0449\u0435, \u0447\u0435\u043c \u044f \u0434\u0443\u043c\u0430\u043b\n",
        "L = [n for n in L if n != N]\n",
        "\n",
        "print(time.time() - t)\n",
        "print(L[:30])"
      ],
      "outputs": [
        {
          "output_type": "stream",
          "name": "stdout",
          "text": "0.0004305839538574219\n[1, 1, 3, 4, 5, 6, 1, 1, 3, 4, 5, 6, 1, 1, 3, 4, 5, 6, 1, 1, 3, 4, 5, 6, 1, 1, 3, 4, 5, 6]\n"
        }
      ],
      "execution_count": 7
    },
    {
      "cell_type": "markdown",
      "metadata": {
        "jukit_cell_id": "aEenXANB63"
      },
      "source": [
        "#### \u0417\u0430\u0434\u0430\u0447\u0430 6.\n",
        "\n",
        "\u0420\u0435\u0448\u0438\u0442\u0435 \u0437\u0430\u0434\u0430\u0447\u0443 3 \u0437\u0430 \u043b\u0438\u043d\u0435\u0439\u043d\u043e\u0435 \u0432\u0440\u0435\u043c\u044f. \u041c\u043e\u0436\u043d\u043e \u0438\u0441\u043f\u043e\u043b\u044c\u0437\u043e\u0432\u0430\u0442\u044c \u0434\u043e\u043f\u043e\u043b\u043d\u0438\u0442\u0435\u043b\u044c\u043d\u0443\u044e \u043f\u0430\u043c\u044f\u0442\u044c. \u0414\u043b\u044f \u043f\u0440\u043e\u0432\u0435\u0440\u043a\u0438 \u043c\u043e\u0436\u0435\u0442\u0435 \u0438\u0441\u043f\u043e\u043b\u044c\u0437\u043e\u0432\u0430\u0442\u044c \u043a\u043e\u0434 \u0432 \u0437\u0430\u0434\u0430\u0447\u0435 7."
      ]
    },
    {
      "cell_type": "code",
      "metadata": {
        "jukit_cell_id": "Mbf5UApDit"
      },
      "source": [
        "def delete_duplicates(lst: list) -> list:\n",
        "    L = []\n",
        "    for n in lst:\n",
        "        if n not in L:\n",
        "            L.append(n)\n",
        "    return L"
      ],
      "outputs": [],
      "execution_count": null
    },
    {
      "cell_type": "code",
      "metadata": {
        "jukit_cell_id": "duo2FhIWck"
      },
      "source": [
        "import time\n",
        "\n",
        "D = int(input())\n",
        "L = [2, 1, 2, 3, 4, 5, 6] * D\n",
        "\n",
        "t = time.time()\n",
        "\n",
        "L = delete_duplicates(L)\n",
        "\n",
        "print(time.time() - t)\n",
        "print(L[:30])"
      ],
      "outputs": [
        {
          "output_type": "stream",
          "name": "stdout",
          "text": "0.21615338325500488\n[2, 1, 3, 4, 5, 6]\n"
        }
      ],
      "execution_count": 8
    },
    {
      "cell_type": "code",
      "metadata": {
        "jukit_cell_id": "vwHUT12epg"
      },
      "source": [
        "delete_duplicates([2, 1, 2, 3, 3, 2, 4, 1, 2, 5, 5])\n",
        "assert delete_duplicates([1, 2, 3, 4] * 5) == [1, 2, 3, 4]\n",
        "assert delete_duplicates([1, 2, 3, 1] * 5) == [1, 2, 3]\n",
        "assert delete_duplicates([1, 2, 1, 3, 2, 4]) == [1, 2, 3, 4]\n",
        "assert delete_duplicates([1] * 20) == [1]\n",
        "assert delete_duplicates([] * 3) == []\n",
        "\n",
        "# \u041f\u0440\u043e\u0432\u0435\u0440\u043a\u0430, \u0447\u0442\u043e \u043e\u0441\u0442\u0430\u0435\u0442\u0441\u044f \u043b\u0438\u0448\u044c \u043f\u0435\u0440\u0432\u043e\u0435 \u043f\u043e\u044f\u0432\u043b\u0435\u043d\u0438\u0435 \u044d\u043b\u0435\u043c\u0435\u043d\u0442\u0430\n",
        "assert delete_duplicates([2, 1, 2, 1, 3, 2]) == [2, 1, 3]\n",
        "assert delete_duplicates([2, 1, 3, 2, 2, 4, 3, 1]) == [2, 1, 3, 4]\n",
        "print(\"Tests passed\")"
      ],
      "outputs": [
        {
          "output_type": "stream",
          "name": "stdout",
          "text": "Tests passed\n"
        }
      ],
      "execution_count": 9
    },
    {
      "cell_type": "markdown",
      "metadata": {
        "jukit_cell_id": "NQP7YZCbjK"
      },
      "source": [
        "#### \u0417\u0430\u0434\u0430\u0447\u0430 7. \n",
        "\n",
        "\u0420\u0435\u0448\u0438\u0442\u0435 \u0437\u0430\u0434\u0430\u0447\u0443 4 \u0437\u0430 \u043b\u0438\u043d\u0435\u0439\u043d\u043e\u0435 \u0432\u0440\u0435\u043c\u044f. \u041c\u043e\u0436\u043d\u043e \u0438\u0441\u043f\u043e\u043b\u044c\u0437\u043e\u0432\u0430\u0442\u044c \u0434\u043e\u043f\u043e\u043b\u043d\u0438\u0442\u0435\u043b\u044c\u043d\u0443\u044e \u043f\u0430\u043c\u044f\u0442\u044c. "
      ]
    },
    {
      "cell_type": "code",
      "metadata": {
        "jukit_cell_id": "kyfGhdYobX"
      },
      "source": [
        "from collections import defaultdict\n",
        "\n",
        "def delete_count(lst: list, count: int) -> list:\n",
        "    d = defaultdict(int)\n",
        "\n",
        "    for n in lst:\n",
        "        d[n] += 1\n",
        "    \n",
        "    lst = [n for n in lst if d[n] != count]\n",
        "    return lst"
      ],
      "outputs": [],
      "execution_count": null
    },
    {
      "cell_type": "code",
      "metadata": {
        "jukit_cell_id": "Koj2UQPTPW"
      },
      "source": [
        "import time\n",
        "\n",
        "D = int(input())\n",
        "L = [2, 1, 2, 3, 4, 5, 6] * D\n",
        "\n",
        "t = time.time()\n",
        "\n",
        "L = delete_count(L, D * 2)\n",
        "\n",
        "print(time.time() - t)\n",
        "print(L[:30])"
      ],
      "outputs": [
        {
          "output_type": "stream",
          "name": "stdout",
          "text": "0.6809358596801758\n[1, 3, 4, 5, 6, 1, 3, 4, 5, 6, 1, 3, 4, 5, 6, 1, 3, 4, 5, 6, 1, 3, 4, 5, 6, 1, 3, 4, 5, 6]\n"
        }
      ],
      "execution_count": 10
    },
    {
      "cell_type": "code",
      "metadata": {
        "jukit_cell_id": "qQx0aX402W"
      },
      "source": [
        "assert delete_count([1, 2, 3, 3, 3, 2, 1], 3) == [1, 2, 2, 1]\n",
        "assert delete_count([1, 1, 2, 3, 4] * 10, 20) == [2, 3, 4] * 10\n",
        "assert delete_count([1, 2, 3] * 10, 4) == [1, 2, 3] * 10\n",
        "assert delete_count([2, 1, 2, 3] * 10, 20) == [1, 3] * 10\n",
        "print(\"Tests passed\")"
      ],
      "outputs": [
        {
          "output_type": "stream",
          "name": "stdout",
          "text": "[1, 2, 2, 1]\n[2, 3, 4, 2, 3, 4, 2, 3, 4, 2, 3, 4, 2, 3, 4, 2, 3, 4, 2, 3, 4, 2, 3, 4, 2, 3, 4, 2, 3, 4]\n[1, 2, 3, 1, 2, 3, 1, 2, 3, 1, 2, 3, 1, 2, 3, 1, 2, 3, 1, 2, 3, 1, 2, 3, 1, 2, 3, 1, 2, 3]\n[1, 3, 1, 3, 1, 3, 1, 3, 1, 3, 1, 3, 1, 3, 1, 3, 1, 3, 1, 3]\nTests passed\n"
        }
      ],
      "execution_count": 11
    },
    {
      "cell_type": "markdown",
      "metadata": {
        "jukit_cell_id": "iz1YgS4tFL"
      },
      "source": [
        "#### \u0417\u0430\u0434\u0430\u0447\u0430 8. \n",
        "\n",
        "\u041a\u0430\u0442\u044f \u0443\u0436\u0435 \u0434\u0430\u0432\u043d\u043e \u0438\u0433\u0440\u0430\u0435\u0442 \u0432 \u0438\u0433\u0440\u0443 \u041a\u0435\u043d\u0448\u0438\u043d \u041f\u0438\u043c\u043f\u0430\u043a\u0442, \u043d\u043e \u043d\u0438\u043a\u0430\u043a \u043d\u0435 \u043c\u043e\u0436\u0435\u0442 \u043f\u043e\u043b\u0443\u0447\u0438\u0442\u044c \u0441\u0432\u043e\u0435\u0433\u043e \u043b\u044e\u0431\u0438\u043c\u043e\u0433\u043e \u043f\u0435\u0440\u0441\u043e\u043d\u0430\u0436\u0430 \u0413\u0430\u0439\u0434\u0435\u043d. \u0423 \u043d\u0435\u0435 \u043d\u0430\u043a\u043e\u043f\u0438\u043b\u043e\u0441\u044c \u043a\u043e\u043b\u0438\u0447\u0435\u0441\u0442\u0432\u043e \u043a\u0440\u0438\u0441\u0442\u0430\u043b\u043b\u043e\u0432, \u0434\u043e\u0441\u0442\u0430\u0442\u043e\u0447\u043d\u043e\u0435 \u0434\u043b\u044f \u043f\u0440\u0438\u0437\u044b\u0432\u0430 10 \u043f\u0435\u0440\u0441\u043e\u043d\u0430\u0436\u0435\u0439 \u0438\u043b\u0438 \u043e\u0440\u0443\u0436\u0438\u044f (\u043e\u043d\u0438 \u043f\u0435\u0440\u0435\u043c\u0435\u0448\u0430\u043d\u044b).\n",
        "\n",
        "\u041f\u0435\u0440\u0441\u043e\u043d\u0430\u0436\u0438 \u0438 \u043e\u0440\u0443\u0436\u0438\u0435 \u043c\u043e\u0433\u0443\u0442 \u043f\u0440\u0438\u043d\u0430\u0434\u043b\u0435\u0436\u0430\u0442\u044c \u0440\u0430\u0437\u043d\u044b\u043c \u043a\u0430\u0442\u0435\u0433\u043e\u0440\u0438\u044f\u043c: \u043e\u0442 \u0442\u0440\u0435\u0445 (\u0442\u0430\u043a\u043e\u0435 \u0441\u0435\u0431\u0435) \u0437\u0432\u0435\u0437\u0434 \u0434\u043e \u043f\u044f\u0442\u0438 (\u043b\u0443\u0447\u0448\u0435 \u043d\u0435 \u0431\u044b\u0432\u0430\u0435\u0442) \u0437\u0432\u0435\u0437\u0434. \u041e\u0440\u0443\u0436\u0438\u0435 \u0434\u043b\u044f \u044d\u0442\u043e\u0433\u043e \u043f\u0440\u0438\u0437\u044b\u0432\u0430 \u043c\u043e\u0436\u0435\u0442 \u0431\u044b\u0442\u044c \u0442\u043e\u043b\u044c\u043a\u043e \u0442\u0440\u0451\u0445\u0437\u0432\u0451\u0437\u0434\u043e\u0447\u043d\u044b\u043c, \u0430 \u043f\u0435\u0440\u0441\u043e\u043d\u0430\u0436\u0438 \u2014 \u0447\u0435\u0442\u044b\u0440\u0435\u0445- \u0438\u043b\u0438 \u043f\u044f\u0442\u0438\u0437\u0432\u0451\u0437\u0434\u043e\u0447\u043d\u044b\u043c\u0438.\n",
        "\n",
        "\u0421 \u043f\u043e\u043c\u043e\u0449\u044c\u044e \u0444\u0443\u043d\u043a\u0446\u0438\u0438 \u043c\u043e\u0434\u0443\u043b\u044f random \u0432\u044b\u0431\u0435\u0440\u0438\u0442\u0435 \u0438\u0437 \u0441\u043f\u0438\u0441\u043a\u0430, \u043f\u0440\u0438\u0432\u0435\u0434\u0435\u043d\u043d\u043e\u0433\u043e \u043d\u0438\u0436\u0435, 9 \u0432\u0430\u0440\u0438\u0430\u043d\u0442\u043e\u0432 \u0438 \u0434\u043e\u0431\u0430\u0432\u044c\u0442\u0435 \u043a \u043d\u0438\u043c \u0413\u0430\u0439\u0434\u0435\u043d (5 \u0437\u0432\u0435\u0437\u0434). \u041f\u0435\u0440\u0435\u043c\u0435\u0448\u0430\u0439\u0442\u0435 \u043f\u0435\u0440\u0441\u043e\u043d\u0430\u0436\u0435\u0439 \u0438 \u043e\u0440\u0443\u0436\u0438\u0435 \u0438 \u0441\u043e\u043e\u0431\u0449\u0430\u0439\u0442\u0435 \u043e \u0441\u043e\u0441\u0442\u043e\u044f\u043d\u0438\u0438 \u041a\u0430\u0442\u0438 \u0432\u043e \u0432\u0440\u0435\u043c\u044f \u043f\u0440\u0438\u0437\u044b\u0432\u0430:\n",
        "\n",
        "\u041a\u0430\u043a \u0442\u043e\u043b\u044c\u043a\u043e \u043e\u043d\u0430 \u043f\u043e\u043b\u0443\u0447\u0430\u0435\u0442 \u0413\u0430\u0439\u0434\u0435\u043d, \u043e\u043d\u0430 \u043f\u0430\u0434\u0430\u0435\u0442 \u0432 \u043e\u0431\u043c\u043e\u0440\u043e\u043a \u043e\u0442 \u0441\u0447\u0430\u0441\u0442\u044c\u044f (\u043f\u043e\u043b\u0443\u0447\u0435\u043d\u0438\u0435 \u043f\u0435\u0440\u0441\u043e\u043d\u0430\u0436\u0435\u0439 \u0437\u0430\u043a\u0430\u043d\u0447\u0438\u0432\u0430\u0435\u0442\u0441\u044f). \u0415\u0441\u043b\u0438 \u0435\u0439 \u043f\u043e\u043f\u0430\u0434\u0430\u044e\u0442\u0441\u044f \u0434\u0432\u0430 \u0438\u043b\u0438 \u0431\u043e\u043b\u044c\u0448\u0435 \u0447\u0435\u0442\u044b\u0440\u0451\u0445\u0437\u0432\u0451\u0437\u0434\u043e\u0447\u043d\u044b\u0445 \u043f\u0435\u0440\u0441\u043e\u043d\u0430\u0436\u0435\u0439 \u0434\u043e \u0413\u0430\u0439\u0434\u0435\u043d, \u041a\u0430\u0442\u044f \u0440\u0430\u0441\u0441\u0442\u0440\u0430\u0438\u0432\u0430\u0435\u0442\u0441\u044f (\u043e\u043d\u0438 \u0443 \u043d\u0435\u0435 \u0443\u0436\u0435 \u0435\u0441\u0442\u044c). \u0415\u0441\u043b\u0438 \u0435\u0439 \u043f\u043e\u043f\u0430\u0434\u0430\u044e\u0442\u0441\u044f \u0442\u0440\u0438 \u0438\u043b\u0438 \u0431\u043e\u043b\u044c\u0448\u0435 \u044d\u043b\u0435\u043c\u0435\u043d\u0442\u043e\u0432 \u043e\u0440\u0443\u0436\u0438\u044f, \u041a\u0430\u0442\u044f \u0437\u043b\u0438\u0442\u0441\u044f (\u043e\u0440\u0443\u0436\u0438\u0435 \u0435\u0439 \u043d\u0435 \u043d\u0443\u0436\u043d\u043e). \u0415\u0441\u043b\u0438 \u0434\u0435\u0432\u044f\u0442\u044c \u043e\u0431\u044a\u0435\u043a\u0442\u043e\u0432 \u043f\u043e\u0434\u0440\u044f\u0434 \u043d\u0435 \u043e\u043a\u0430\u0437\u0430\u043b\u0438\u0441\u044c \u0413\u0430\u0439\u0434\u0435\u043d, \u041a\u0430\u0442\u044f \u043f\u043b\u0430\u0447\u0435\u0442 (\u043d\u043e \u043d\u0435\u043d\u0430\u0434\u043e\u043b\u0433\u043e, \u0432\u0435\u0434\u044c \u0413\u0430\u0439\u0434\u0435\u043d \u043e\u043a\u0430\u0437\u044b\u0432\u0430\u0435\u0442\u0441\u044f \u043f\u043e\u0441\u043b\u0435\u0434\u043d\u0435\u0439!).\n",
        "\n",
        "\u0412\u0430\u0436\u043d\u043e: \u041a\u0430\u0436\u0434\u044b\u0439 \u0432\u044b\u0432\u043e\u0434 \u043e \u0441\u043e\u0441\u0442\u043e\u044f\u043d\u0438\u0438 \u041a\u0430\u0442\u0438 \u0434\u043e\u043b\u0436\u0435\u043d \u043f\u043e\u0432\u0442\u043e\u0440\u044f\u0442\u044c\u0441\u044f \u0442\u043e\u043b\u044c\u043a\u043e \u043e\u0434\u0438\u043d \u0440\u0430\u0437."
      ]
    },
    {
      "cell_type": "code",
      "metadata": {
        "jukit_cell_id": "U4HS0YbrRG"
      },
      "source": [
        "from random import choices, randint\n",
        "from collections import defaultdict\n",
        "\n",
        "pool = [\"\u041c\u0435\u0447 \u0438\u0437 \u0441\u0438\u043d\u0435\u0433\u043e \u0436\u0435\u043b\u0435\u0437\u0430 3\", \"\u0421\u0442\u0440\u0430\u043d\u043d\u0430\u044f \u043a\u0438\u0441\u0442\u044c 3\", \"\u0420\u043e\u0433\u0430\u0442\u0438\u043d\u0430 3\", \"\u041b\u0443\u043a \u0432\u043e\u0440\u043e\u043d\u044b 3\", \"\u041c\u0435\u0436\u0440\u0435\u0431\u0435\u0440\u043d\u044b\u0439 \u043d\u043e\u0436 3\", \"\u041f\u0440\u0435\u0434\u0432\u0435\u0441\u0442\u043d\u0438\u043a \u0437\u0430\u043a\u0430\u0442\u0430 3\", \"\u0422\u0435\u043f\u043b\u043e\u0435 \u043b\u0435\u0437\u0432\u0438\u0435 3\",\n",
        " \"\u041f\u0430\u0440\u043d\u044b\u0439 \u0440\u0443\u0431\u0438\u043d 3\", \"\u041b\u0430\u0437\u0443\u0440\u043d\u044b\u0439 \u0448\u0430\u0440 3\", \"\u0420\u0443\u043a\u043e\u0432\u043e\u0434\u0441\u0442\u0432\u043e \u043f\u043e \u0432\u043e\u043b\u0448\u0435\u0431\u0441\u0442\u0432\u0443 3\", \"\u041a\u0430\u043b\u043b\u0435\u043d 4\", \"\u0428\u0438\u043e\u043d\u0430 4\", \"\u041a\u0430\u043c\u0435\u043b\u0438\u044f 4\",\n",
        " \"\u0426\u0435\u043b\u043b\u044e\u043b\u043e\u0437\u0430 4\", \"\u0425\u0430\u043d \u0428\u0438\u043d 4\"]\n",
        "\n",
        "wishes = choices(pool, k=9)\n",
        "i = randint(0, 10)\n",
        "wishes[i:i:] = [\"\u0413\u0430\u0439\u0434\u0435\u043d 5\"]\n",
        "\n",
        "d = defaultdict(int)\n",
        "is_angry = False\n",
        "is_disappointed = False\n",
        "\n",
        "for i, wish in enumerate(wishes):\n",
        "    print(f\"\u041a\u0430\u0442\u0435 \u0432\u044b\u043f\u0430\u0434\u0430\u0435\u0442 {wish}!\")\n",
        "    if wish == \"\u0413\u0430\u0439\u0434\u0435\u043d 5\":\n",
        "        print(\"\u041a\u0430\u0442\u044f \u043f\u0430\u0434\u0430\u0435\u0442 \u0432 \u043e\u0431\u043c\u043e\u0440\u043e\u043a \u043e\u0442 \u0441\u0447\u0430\u0441\u0442\u044c\u044f!\")\n",
        "        break\n",
        "\n",
        "    k = wish[-1]\n",
        "    d[k] += 1\n",
        "    v = d.get(wish[-1])\n",
        "\n",
        "    if k == \"4\" and v >= 2 and not is_disappointed:\n",
        "        print(\"\u041a\u0430\u0442\u044f \u0440\u0430\u0441\u0441\u0442\u0440\u0430\u0438\u0432\u0430\u0435\u0442\u0441\u044f!\")\n",
        "        is_disappointed = True\n",
        "    if k == \"3\" and v >= 3 and not is_angry:\n",
        "        print(\"\u041a\u0430\u0442\u044f \u0437\u043b\u0438\u0442\u0441\u044f!\")\n",
        "        is_angry = True\n",
        "    if i == 8:\n",
        "        print(\"\u041a\u0430\u0442\u044f \u043f\u043b\u0430\u0447\u0435\u0442!\")"
      ],
      "outputs": [
        {
          "output_type": "stream",
          "name": "stdout",
          "text": "\u041a\u0430\u0442\u0435 \u0432\u044b\u043f\u0430\u0434\u0430\u0435\u0442 \u041b\u0430\u0437\u0443\u0440\u043d\u044b\u0439 \u0448\u0430\u0440 3!\n\u041a\u0430\u0442\u0435 \u0432\u044b\u043f\u0430\u0434\u0430\u0435\u0442 \u041c\u0435\u0447 \u0438\u0437 \u0441\u0438\u043d\u0435\u0433\u043e \u0436\u0435\u043b\u0435\u0437\u0430 3!\n\u041a\u0430\u0442\u0435 \u0432\u044b\u043f\u0430\u0434\u0430\u0435\u0442 \u0426\u0435\u043b\u043b\u044e\u043b\u043e\u0437\u0430 4!\n\u041a\u0430\u0442\u0435 \u0432\u044b\u043f\u0430\u0434\u0430\u0435\u0442 \u0420\u0443\u043a\u043e\u0432\u043e\u0434\u0441\u0442\u0432\u043e \u043f\u043e \u0432\u043e\u043b\u0448\u0435\u0431\u0441\u0442\u0432\u0443 3!\n\u041a\u0430\u0442\u044f \u0437\u043b\u0438\u0442\u0441\u044f!\n\u041a\u0430\u0442\u0435 \u0432\u044b\u043f\u0430\u0434\u0430\u0435\u0442 \u0421\u0442\u0440\u0430\u043d\u043d\u0430\u044f \u043a\u0438\u0441\u0442\u044c 3!\n\u041a\u0430\u0442\u0435 \u0432\u044b\u043f\u0430\u0434\u0430\u0435\u0442 \u041c\u0435\u0436\u0440\u0435\u0431\u0435\u0440\u043d\u044b\u0439 \u043d\u043e\u0436 3!\n\u041a\u0430\u0442\u0435 \u0432\u044b\u043f\u0430\u0434\u0430\u0435\u0442 \u0421\u0442\u0440\u0430\u043d\u043d\u0430\u044f \u043a\u0438\u0441\u0442\u044c 3!\n\u041a\u0430\u0442\u0435 \u0432\u044b\u043f\u0430\u0434\u0430\u0435\u0442 \u041c\u0435\u0436\u0440\u0435\u0431\u0435\u0440\u043d\u044b\u0439 \u043d\u043e\u0436 3!\n\u041a\u0430\u0442\u0435 \u0432\u044b\u043f\u0430\u0434\u0430\u0435\u0442 \u041a\u0430\u043b\u043b\u0435\u043d 4!\n\u041a\u0430\u0442\u044f \u0440\u0430\u0441\u0441\u0442\u0440\u0430\u0438\u0432\u0430\u0435\u0442\u0441\u044f!\n\u041a\u0430\u0442\u044f \u043f\u043b\u0430\u0447\u0435\u0442!\n\u041a\u0430\u0442\u0435 \u0432\u044b\u043f\u0430\u0434\u0430\u0435\u0442 \u0413\u0430\u0439\u0434\u0435\u043d 5!\n\u041a\u0430\u0442\u044f \u043f\u0430\u0434\u0430\u0435\u0442 \u0432 \u043e\u0431\u043c\u043e\u0440\u043e\u043a \u043e\u0442 \u0441\u0447\u0430\u0441\u0442\u044c\u044f!\n"
        }
      ],
      "execution_count": 12
    },
    {
      "cell_type": "markdown",
      "metadata": {
        "jukit_cell_id": "6jdtW0p5Zs"
      },
      "source": [
        "#### \u0417\u0430\u0434\u0430\u0447\u0430 9. \n",
        "\n",
        "\u0414\u0430\u043d \u0441\u043f\u0438\u0441\u043e\u043a \u0446\u0435\u043b\u044b\u0445 \u0447\u0438\u0441\u0435\u043b \u0438 \u0446\u0435\u043b\u0435\u0432\u043e\u0435 \u0447\u0438\u0441\u043b\u043e (\u0442\u043e\u0436\u0435 \u0446\u0435\u043b\u043e\u0435). \u0424\u0443\u043d\u043a\u0446\u0438\u044f \u0434\u043e\u043b\u0436\u043d\u0430 \u0432\u043e\u0437\u0432\u0440\u0430\u0449\u0430\u0442\u044c \u0434\u0432\u0430 \u0438\u043d\u0434\u0435\u043a\u0441\u0430 \u0447\u0438\u0441\u0435\u043b \u0438\u0437 \u0441\u043f\u0438\u0441\u043a\u0430, \u043a\u043e\u0442\u043e\u0440\u044b\u0435 \u0432 \u0441\u0443\u043c\u043c\u0435 \u0434\u0430\u044e\u0442 \u0446\u0435\u043b\u0435\u0432\u043e\u0435 \u0447\u0438\u0441\u043b\u043e."
      ]
    },
    {
      "cell_type": "code",
      "metadata": {
        "jukit_cell_id": "wcHiFwBuH6"
      },
      "source": [
        "def twoSum(nums, target):\n",
        "    for i, num in enumerate(nums):\n",
        "        try:\n",
        "            return [i, nums.index(target - num)]\n",
        "        except ValueError:\n",
        "            ...\n",
        "    return []"
      ],
      "outputs": [],
      "execution_count": null
    },
    {
      "cell_type": "code",
      "metadata": {
        "jukit_cell_id": "cywcd5sBWl"
      },
      "source": [
        "assert twoSum(nums=[2, 7, 11, 15], target=9) == [0, 1]\n",
        "assert twoSum([3, 4, 5, 1, 3, 7], 10) == [0,  5]\n",
        "assert twoSum([3, 5, 1], 15) == []\n",
        "assert twoSum([-1, 4, 3], 3) == [0, 1]\n",
        "print(\"Tests passed\")"
      ],
      "outputs": [
        {
          "name": "stdout",
          "output_type": "stream",
          "text": [
            "Tests passed\n"
          ]
        }
      ],
      "execution_count": 13
    }
  ],
  "metadata": {
    "anaconda-cloud": {},
    "kernelspec": {
      "display_name": "python",
      "language": "python",
      "name": "python3"
    }
  },
  "nbformat": 4,
  "nbformat_minor": 4
}