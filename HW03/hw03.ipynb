{
 "cells": [
  {
   "cell_type": "code",
   "execution_count": 4,
   "metadata": {
    "jukit_cell_id": "mqs2wmiIra"
   },
   "outputs": [],
   "source": [
    "def string_to_list_decorator(data_type=None):\n",
    "    # Если int, то делаем int()\n",
    "    if data_type == int:\n",
    "        def _string_to_list_decorator(func):\n",
    "            def inner(*args):\n",
    "                inner_args = []\n",
    "                for arg in args:\n",
    "                    if type(arg) is str:\n",
    "                        arg = [int(inner_arg) for inner_arg in arg.split()]\n",
    "                    inner_args.append(arg)\n",
    "                    return func(*inner_args)\n",
    "            return inner\n",
    "        return _string_to_list_decorator\n",
    "    # Иначе мы допускаем, что программа работает не только со списком чисел, а с любым списком\n",
    "    # Я не добавляю дополнительных условий, так как кроме int ничего и не нужно для задач"
   ]
  },
  {
   "cell_type": "markdown",
   "metadata": {
    "jukit_cell_id": "NErIs7On0C"
   },
   "source": [
    "#### Задача 1.\n",
    "\n",
    "Вводится список чисел через пробел. Поменяйте в этом списке самое маленькое и самое большое число местами, н-р, список 4 2 6 3 7 5 должен превратиться в 4 7 6 3 2 5"
   ]
  },
  {
   "cell_type": "code",
   "execution_count": 5,
   "metadata": {
    "jukit_cell_id": "jNyc9mFY0H"
   },
   "outputs": [],
   "source": [
    "@string_to_list_decorator(int)\n",
    "def swap_min_max(lst: list) -> list:\n",
    "    min = max = None\n",
    "    for i in lst:\n",
    "        if min is None and max is None:\n",
    "            min = max = lst[i]\n",
    "\n",
    "        if i < min:\n",
    "            min = i\n",
    "        if i > max:\n",
    "            max = i\n",
    "\n",
    "    imin = lst.index(min)\n",
    "    imax = lst.index(max)\n",
    "\n",
    "    lst[imin], lst[imax] = lst[imax], lst[imin]\n",
    "    return lst"
   ]
  },
  {
   "cell_type": "code",
   "execution_count": 6,
   "metadata": {
    "jukit_cell_id": "JSXFCyf3MV"
   },
   "outputs": [
    {
     "data": {
      "text/plain": [
       "'Tests passed'"
      ]
     },
     "execution_count": 6,
     "metadata": {},
     "output_type": "execute_result"
    }
   ],
   "source": [
    "assert swap_min_max([4, 2, 6, 3, 7, 5]) == [4, 7, 6, 3, 2, 5]\n",
    "\n",
    "lst = [-1, 2, -100, 1_000_000_000, 4]\n",
    "swap_min_max(lst)\n",
    "assert lst == [-1, 2, 1_000_000_000, -100, 4]\n",
    "\n",
    "assert swap_min_max(\"1 2 3 4 5 6\") == [6, 2, 3, 4, 5, 1]\n",
    "\n",
    "\"Tests passed\""
   ]
  },
  {
   "cell_type": "markdown",
   "metadata": {
    "jukit_cell_id": "lFllmq0ZiX"
   },
   "source": [
    "#### Задача 2. \n",
    "\n",
    "Вводится список (чего угодно, как угодно). Нужно все элементы поменять местами, н-р, список вида 1 2 3 4 5 превращается в 2 1 4 3 5. "
   ]
  },
  {
   "cell_type": "code",
   "execution_count": 7,
   "metadata": {
    "jukit_cell_id": "u5G8Ju5ONJ"
   },
   "outputs": [],
   "source": [
    "@string_to_list_decorator(int)\n",
    "def swap(lst: list) -> list:\n",
    "    res = lst[1::2]\n",
    "    for i in range(len(lst)):\n",
    "        if i % 2 == 0:\n",
    "            res[i+1:i+1] = lst[i:i+1]\n",
    "    return res"
   ]
  },
  {
   "cell_type": "code",
   "execution_count": 8,
   "metadata": {
    "jukit_cell_id": "5HWLOmPLRc"
   },
   "outputs": [
    {
     "name": "stdout",
     "output_type": "stream",
     "text": [
      "Tests passed\n"
     ]
    }
   ],
   "source": [
    "assert swap([1, 2, 3, 4, 5]) == [2, 1, 4, 3, 5]\n",
    "assert swap([1, 2, 3, 4, 5, 6]) == [2, 1, 4, 3, 6, 5]\n",
    "assert swap([1]) == [1]\n",
    "assert swap([]) == []\n",
    "assert swap(\"1 2 3 4 5\") == [2, 1, 4, 3, 5]\n",
    "assert swap(\"1 2 3 4 5 6\") == [2, 1, 4, 3, 6, 5]\n",
    "print(\"Tests passed\")"
   ]
  },
  {
   "cell_type": "code",
   "execution_count": 10,
   "metadata": {
    "jukit_cell_id": "CiPAsgXfmW"
   },
   "outputs": [],
   "source": [
    "# Второе решение, не возвращает ничего\n",
    "# Без декоратора, ведь str немутабельны\n",
    "# Но тогда решение тоже не очень полное, ведь нельзя ввести числа через пробел\n",
    "def swap(lst: list):\n",
    "    for i in range(len(lst) // 2):\n",
    "        lst[i * 2], lst[i * 2 + 1] = lst[i * 2 + 1], lst[i * 2]"
   ]
  },
  {
   "cell_type": "code",
   "execution_count": 11,
   "metadata": {
    "jukit_cell_id": "3nf7gLnNZI"
   },
   "outputs": [
    {
     "data": {
      "text/plain": [
       "'Tests passed'"
      ]
     },
     "execution_count": 11,
     "metadata": {},
     "output_type": "execute_result"
    }
   ],
   "source": [
    "lst = [1, 2, 3, 4, 5]\n",
    "swap(lst)\n",
    "assert lst == [2, 1, 4, 3, 5]\n",
    "\n",
    "lst = [1, 2, 3, 4, 5, 6]\n",
    "swap(lst)\n",
    "assert lst == [2, 1, 4, 3, 6, 5]\n",
    "\n",
    "lst = [1]\n",
    "swap(lst)\n",
    "assert lst == [1]\n",
    "\n",
    "lst = []\n",
    "swap(lst)\n",
    "assert lst == []\n",
    "\n",
    "\"Tests passed\""
   ]
  },
  {
   "cell_type": "markdown",
   "metadata": {
    "jukit_cell_id": "YtmEGJ9b0Z"
   },
   "source": [
    "#### Задача 3.\n",
    "\n",
    "Дан список. Удалите из списка все повторы, то есть, оставьте в списке каждый элемент только в одном экземпляре (остаться должно только первое появление элемента в списке). Программа не должна использовать дополнительную память: это означает, что нельзя пользоваться множествами и генераторами, можно только производить изменения в самом списке. "
   ]
  },
  {
   "cell_type": "code",
   "execution_count": 12,
   "metadata": {
    "jukit_cell_id": "f0OkiZ9Ij3"
   },
   "outputs": [],
   "source": [
    "def delete_duplicates(lst: list) -> list:\n",
    "    i = 0\n",
    "    # Инвертируем цикл, чтобы метод remove удалял последние появления элемента в списке\n",
    "    lst = lst[::-1]\n",
    "    while i < len(lst):\n",
    "        # Отдельно запоминаем значение, которое надо удалить, чтобы цикл не зависел от i\n",
    "        # Ведь i меняется внутри цикл\n",
    "        to_remove = lst[i]\n",
    "        add_one = True\n",
    "        for j in range(lst.count(to_remove) - 1):\n",
    "            lst.remove(to_remove)\n",
    "            # Если цикл запустился, то меняем add_one на False, чтобы не прибавлять 1 к i\n",
    "            # Ведь i как бы само сдвинется, ведь метод remove удалит первый элемент\n",
    "            add_one = False\n",
    "        i += add_one\n",
    "    return lst[::-1]"
   ]
  },
  {
   "cell_type": "code",
   "execution_count": 13,
   "metadata": {
    "jukit_cell_id": "rF3i0Smstk"
   },
   "outputs": [
    {
     "name": "stdout",
     "output_type": "stream",
     "text": [
      "Tests passed\n"
     ]
    }
   ],
   "source": [
    "assert delete_duplicates([1, 2, 3, 4] * 5) == [1, 2, 3, 4]\n",
    "assert delete_duplicates([1, 2, 3, 1] * 5) == [1, 2, 3]\n",
    "assert delete_duplicates([1, 2, 1, 3, 2, 4]) == [1, 2, 3, 4]\n",
    "assert delete_duplicates([1] * 20) == [1]\n",
    "assert delete_duplicates([] * 3) == []\n",
    "\n",
    "# Проверка, что остается лишь первое появление элемента\n",
    "assert delete_duplicates([1, 2, 1, 3, 2]) == [1, 2, 3]\n",
    "assert delete_duplicates([1, 2, 1, 3, 2, 2, 4, 3, 1]) == [1, 2, 3, 4]\n",
    "print(\"Tests passed\")"
   ]
  },
  {
   "cell_type": "markdown",
   "metadata": {
    "jukit_cell_id": "PrsDPrg4JV"
   },
   "source": [
    "#### Задача 4.\n",
    "\n",
    "На вход программе даётся число N и список. Удалите из списка все элементы, которые встречаются в нём ровно N раз. Программа не должна использовать дополнительную память."
   ]
  },
  {
   "cell_type": "code",
   "execution_count": 14,
   "metadata": {
    "jukit_cell_id": "ZuxxB9UsKW"
   },
   "outputs": [],
   "source": [
    "def delete_count(lst: list, count: int) -> list:\n",
    "    i = 0\n",
    "    # Инвертируем цикл, чтобы метод remove удалял последние появления элемента в списке\n",
    "    lst = lst[::-1]\n",
    "    while i < len(lst):\n",
    "        to_remove = lst[i]\n",
    "        add_one = True\n",
    "\n",
    "        if lst.count(to_remove) == count:\n",
    "            for j in range(lst.count(to_remove)):\n",
    "                lst.remove(to_remove)\n",
    "            add_one = False\n",
    "        i += add_one\n",
    "    return lst[::-1]"
   ]
  },
  {
   "cell_type": "code",
   "execution_count": 15,
   "metadata": {
    "jukit_cell_id": "iYTiIuOF7z"
   },
   "outputs": [
    {
     "name": "stdout",
     "output_type": "stream",
     "text": [
      "Tests passed\n"
     ]
    }
   ],
   "source": [
    "assert delete_count([1, 2, 3, 3, 3, 2, 1], 3) == [1, 2, 2, 1]\n",
    "assert delete_count([1, 1, 2, 3, 4] * 10, 20) == [2, 3, 4] * 10\n",
    "assert delete_count([1, 2, 3] * 10, 4) == [1, 2, 3] * 10\n",
    "print(\"Tests passed\")"
   ]
  },
  {
   "cell_type": "markdown",
   "metadata": {
    "jukit_cell_id": "6D0Pwz5WgQ"
   },
   "source": [
    "#### Задача 5 (2 балла). \n",
    "\n",
    "На вход программе даётся число X и список чисел. Удалите из списка все вхождения элемента X. Программа должна работать за линейное время. Программа не должна использовать дополнительную память. Код для проверки на линейность уже вписан (если меняете D с 10000 на 100000, время должно увеличиться не больше чем в 10 раз). Такую проверку можно использовать и в скрипте .py. filter использовать нельзя. "
   ]
  },
  {
   "cell_type": "code",
   "execution_count": 7,
   "metadata": {
    "jukit_cell_id": "2F7w6Q7vUD"
   },
   "outputs": [
    {
     "name": "stdout",
     "output_type": "stream",
     "text": [
      "5.817413330078125e-05\n",
      "[1, 2, 1, 2, 3, 4, 5, 6, 1, 2, 1, 2, 3, 4, 5, 6, 1, 2, 1, 2, 3, 4, 5, 6, 1, 2, 1, 2, 3, 4]\n"
     ]
    }
   ],
   "source": [
    "import time\n",
    "\n",
    "D = int(input())\n",
    "L = [1, 2, 1, 2, 3, 4, 5, 6] * D\n",
    "N = int(input())\n",
    "\n",
    "t = time.time()\n",
    "# your code here\n",
    "print(time.time() - t)\n",
    "print(L[:30])"
   ]
  },
  {
   "cell_type": "markdown",
   "metadata": {
    "jukit_cell_id": "aEenXANB63"
   },
   "source": [
    "#### Задача 6.\n",
    "\n",
    "Решите задачу 3 за линейное время. Можно использовать дополнительную память. Для проверки можете использовать код в задаче 7."
   ]
  },
  {
   "cell_type": "code",
   "execution_count": null,
   "metadata": {
    "jukit_cell_id": "Mbf5UApDit"
   },
   "outputs": [],
   "source": [
    "def delete_duplicates(lst: list) -> list:\n",
    "    lst = set(lst)\n",
    "    \n",
    "    return list(lst)"
   ]
  },
  {
   "cell_type": "code",
   "execution_count": 8,
   "metadata": {
    "jukit_cell_id": "vwHUT12epg"
   },
   "outputs": [
    {
     "data": {
      "text/plain": [
       "[1, 2, 3, 4, 5]"
      ]
     },
     "execution_count": 8,
     "metadata": {},
     "output_type": "execute_result"
    }
   ],
   "source": [
    "delete_duplicates([2, 1, 2, 3, 3, 2, 4, 1, 2, 5, 5])"
   ]
  },
  {
   "cell_type": "markdown",
   "metadata": {
    "jukit_cell_id": "NQP7YZCbjK"
   },
   "source": [
    "#### Задача 7. \n",
    "\n",
    "Решите задачу 4 за линейное время. Можно использовать дополнительную память. "
   ]
  },
  {
   "cell_type": "code",
   "execution_count": null,
   "metadata": {
    "jukit_cell_id": "kyfGhdYobX"
   },
   "outputs": [],
   "source": [
    "# your code here"
   ]
  },
  {
   "cell_type": "markdown",
   "metadata": {
    "jukit_cell_id": "iz1YgS4tFL"
   },
   "source": [
    "#### Задача 8. \n",
    "\n",
    "Катя уже давно играет в игру Кеншин Пимпакт, но никак не может получить своего любимого персонажа Гайден. У нее накопилось количество кристаллов, достаточное для призыва 10 персонажей или оружия (они перемешаны).\n",
    "\n",
    "Персонажи и оружие могут принадлежать разным категориям: от трех (такое себе) звезд до пяти (лучше не бывает) звезд. Оружие для этого призыва может быть только трёхзвёздочным, а персонажи — четырех- или пятизвёздочными.\n",
    "\n",
    "С помощью функции модуля random выберите из списка, приведенного ниже, 9 вариантов и добавьте к ним Гайден (5 звезд). Перемешайте персонажей и оружие и сообщайте о состоянии Кати во время призыва:\n",
    "\n",
    "Как только она получает Гайден, она падает в обморок от счастья (получение персонажей заканчивается). Если ей попадаются два или больше четырёхзвёздочных персонажей до Гайден, Катя расстраивается (они у нее уже есть). Если ей попадаются три или больше элементов оружия, Катя злится (оружие ей не нужно). Если девять объектов подряд не оказались Гайден, Катя плачет (но ненадолго, ведь Гайден оказывается последней!).\n",
    "\n",
    "Важно: Каждый вывод о состоянии Кати должен повторяться только один раз."
   ]
  },
  {
   "cell_type": "code",
   "execution_count": null,
   "metadata": {
    "jukit_cell_id": "U4HS0YbrRG"
   },
   "outputs": [],
   "source": [
    "pool = [\"Меч из синего железа 3\", \"Странная кисть 3\", \"Рогатина 3\", \"Лук вороны 3\", \"Межреберный нож 3\", \"Предвестник заката 3\", \"Теплое лезвие 3\",\n",
    " \"Парный рубин 3\", \"Лазурный шар 3\", \"Руководство по волшебству 3\", \"Каллен 4\", \"Шиона 4\", \"Камелия 4\",\n",
    " \"Целлюлоза 4\", \"Хан Шин 4\"]\n",
    "\n",
    "# your code here"
   ]
  },
  {
   "cell_type": "markdown",
   "metadata": {
    "jukit_cell_id": "6jdtW0p5Zs"
   },
   "source": [
    "#### Задача 9. \n",
    "\n",
    "Дан список целых чисел и целевое число (тоже целое). Функция должна возвращать два индекса чисел из списка, которые в сумме дают целевое число."
   ]
  },
  {
   "cell_type": "code",
   "execution_count": null,
   "metadata": {
    "jukit_cell_id": "wcHiFwBuH6"
   },
   "outputs": [],
   "source": [
    "def twoSum(nums, target):\n",
    "    for i, num in enumerate(nums):\n",
    "        try:\n",
    "            return [i, nums.index(target - num)]\n",
    "        except ValueError:\n",
    "            ...\n",
    "    return []"
   ]
  },
  {
   "cell_type": "code",
   "execution_count": 9,
   "metadata": {
    "jukit_cell_id": "cywcd5sBWl"
   },
   "outputs": [
    {
     "name": "stdout",
     "output_type": "stream",
     "text": [
      "Tests passed\n"
     ]
    }
   ],
   "source": [
    "assert twoSum(nums=[2, 7, 11, 15], target=9) == [0, 1]\n",
    "assert twoSum([3, 4, 5, 1, 3, 7], 10) == [0,  5]\n",
    "assert twoSum([3, 5, 1], 15) == []\n",
    "assert twoSum([-1, 4, 3], 3) == [0, 1]\n",
    "print(\"Tests passed\")"
   ]
  }
 ],
 "metadata": {
  "anaconda-cloud": {},
  "kernelspec": {
   "display_name": "Python 3 (ipykernel)",
   "language": "python",
   "name": "python3"
  },
  "language_info": {
   "codemirror_mode": {
    "name": "ipython",
    "version": 3
   },
   "file_extension": ".py",
   "mimetype": "text/x-python",
   "name": "python",
   "nbconvert_exporter": "python",
   "pygments_lexer": "ipython3",
   "version": "3.12.7"
  }
 },
 "nbformat": 4,
 "nbformat_minor": 4
}
