{
  "cells": [
    {
      "cell_type": "markdown",
      "metadata": {
        "jukit_cell_id": "wODVr3g9yh"
      },
      "source": [
        "#### \u0417\u0430\u0434\u0430\u0447\u0430 1.\n",
        "\n",
        "\u041d\u0430\u043f\u0438\u0448\u0438\u0442\u0435 \u0444\u0443\u043d\u043a\u0446\u0438\u044e, \u043a\u043e\u0442\u043e\u0440\u0430\u044f \u0431\u0443\u0434\u0435\u0442 \u0434\u0435\u043b\u0438\u0442\u044c \u0441\u0442\u0440\u043e\u0447\u043a\u0443 \u043d\u0430 \u0441\u043b\u043e\u0432\u0430. \u0418\u0437\u0431\u0430\u0432\u043b\u044f\u0442\u044c\u0441\u044f \u043e\u0442 \u043f\u0443\u043d\u043a\u0442\u0443\u0430\u0446\u0438\u0438 \u043c\u043e\u0436\u043d\u043e \u043f\u0440\u0438 \u043f\u043e\u043c\u043e\u0449\u0438 \u043c\u043e\u0434\u0443\u043b\u044f string \u0438\u043b\u0438 \u043c\u0435\u0442\u043e\u0434\u0430 str.maketrans. \u0424\u0443\u043d\u043a\u0446\u0438\u044f \u0434\u043e\u043b\u0436\u043d\u0430 \u0432\u043e\u0437\u0432\u0440\u0430\u0449\u0430\u0442\u044c \u0433\u0435\u043d\u0435\u0440\u0430\u0442\u043e\u0440, \u043a\u043e\u0442\u043e\u0440\u044b\u0439 \u0431\u0443\u0434\u0435\u0442 \u0432\u044b\u0434\u0430\u0432\u0430\u0442\u044c \u043e\u0434\u043d\u043e \u0441\u043b\u043e\u0432\u043e \u0437\u0430 \u0434\u0440\u0443\u0433\u0438\u043c."
      ]
    },
    {
      "cell_type": "code",
      "metadata": {
        "jukit_cell_id": "oBZSbLI4ut"
      },
      "source": [
        "import string\n",
        "\n",
        "\n",
        "def words(s: str):\n",
        "    table = s.maketrans('', '', string.punctuation)\n",
        "    s = s.translate(table)\n",
        "    s = s.split()\n",
        "    for w in s:\n",
        "        yield w"
      ],
      "outputs": [],
      "execution_count": null
    },
    {
      "cell_type": "code",
      "metadata": {
        "jukit_cell_id": "pxgj23ljjr"
      },
      "source": [
        "assert list(words(\"Hello, World\")) == ['Hello', 'World']\n",
        "assert list(words(\"\u041f\u0440\u0438\u0432\u0435\u0442, \u041c\u0438\u0440!\")) == ['\u041f\u0440\u0438\u0432\u0435\u0442', '\u041c\u0438\u0440']\n",
        "print(\"Tests passed\")"
      ],
      "outputs": [
        {
          "name": "stdout",
          "output_type": "stream",
          "text": [
            "Tests passed\n"
          ]
        }
      ],
      "execution_count": 1
    },
    {
      "cell_type": "markdown",
      "metadata": {
        "jukit_cell_id": "GOmba4KDxK"
      },
      "source": [
        "#### \u0417\u0430\u0434\u0430\u0447\u0430 2.\n",
        "\n",
        "\u0428\u0438\u0444\u0440 \u0426\u0435\u0437\u0430\u0440\u044f - \u0441\u0430\u043c\u044b\u0439 \u043f\u0440\u043e\u0441\u0442\u043e\u0439 \u0438 \u0438\u0437\u0432\u0435\u0441\u0442\u043d\u044b\u0439 \u0441\u043f\u043e\u0441\u043e\u0431 \u0448\u0438\u0444\u0440\u043e\u0432\u0430\u0442\u044c \u0441\u0432\u043e\u0438 \u0434\u0430\u043d\u043d\u044b\u0435. \u0415\u0433\u043e \u0441\u043c\u044b\u0441\u043b \u0432 \u0442\u043e\u043c, \u0447\u0442\u043e\u0431\u044b \u0432\u0441\u0435 \u0431\u0443\u043a\u0432\u044b \u0437\u0430\u043c\u0435\u043d\u0438\u0442\u044c \u043f\u043e \u0430\u043b\u0444\u0430\u0432\u0438\u0442\u0443 \u0441\u043e \u0441\u0434\u0432\u0438\u0433\u043e\u043c, \u043d\u0430\u043f\u0440\u0438\u043c\u0435\u0440, \u0435\u0441\u043b\u0438 \u0441\u0434\u0432\u0438\u0433 = 2, \u0442\u043e \u0431\u0443\u043a\u0432\u0430 \u0430 \u043f\u0440\u0435\u0432\u0440\u0430\u0442\u0438\u0442\u0441\u044f \u0432 \u0432, \u0431 - \u0432 \u0433 \u0438 \u0442\u0430\u043a \u0434\u0430\u043b\u0435\u0435. \u042f \u0431\u0443\u0434\u0435\u0442 \u043f\u0440\u0435\u0432\u0440\u0430\u0449\u0430\u0442\u044c\u0441\u044f \u0432 \u0431. (\u041f\u043e\u0434\u0440\u043e\u0431\u043d\u0435\u0435 \u043c\u043e\u0436\u043d\u043e \u043f\u043e\u0447\u0438\u0442\u0430\u0442\u044c \u043d\u0430 \u0432\u0438\u043a\u0438).\n",
        "\n",
        "\u041d\u0430\u043f\u0438\u0448\u0438\u0442\u0435 \u0444\u0443\u043d\u043a\u0446\u0438\u044e \u0434\u043b\u044f \u0440\u0430\u0441\u0448\u0438\u0444\u0440\u043e\u0432\u043a\u0438 \u0441\u0442\u0440\u043e\u043a\u0438. \u0424\u0443\u043d\u043a\u0446\u0438\u044f \u043f\u0440\u0438\u043d\u0438\u043c\u0430\u0435\u0442 \u0441\u0442\u0440\u043e\u043a\u0443 \u0438 \u0447\u0438\u0441\u043b\u043e = \u0441\u0434\u0432\u0438\u0433 \u0438 \u0434\u043e\u043b\u0436\u043d\u0430 \u0432\u0435\u0440\u043d\u0443\u0442\u044c \u0440\u0430\u0441\u0448\u0438\u0444\u0440\u043e\u0432\u0430\u043d\u043d\u0443\u044e \u0441\u0442\u0440\u043e\u043a\u0443."
      ]
    },
    {
      "cell_type": "code",
      "metadata": {
        "jukit_cell_id": "yzOIGyIe8j"
      },
      "source": [
        "import string\n",
        "\n",
        "\n",
        "def decrypt(s: str, n: int):\n",
        "    # \u0415\u0441\u043b\u0438 \u0434\u0435\u043b\u0430\u0442\u044c \u043f\u0440\u043e\u0441\u0442\u043e \u0447\u0435\u0440\u0435\u0437 \u044e\u043d\u0438\u043a\u043e\u0434, \u0442\u043e \u043c\u044b \u043e\u0431\u044f\u0437\u0430\u0442\u0435\u043b\u044c\u043d\u043e \u0432\u044b\u0439\u0434\u0435\u043c \u0437\u0430 \u0433\u0440\u0430\u043d\u0438\u0446\u044b \u0430\u043b\u0444\u0430\u0432\u0438\u0442\u0430, \u043f\u043e\u044d\u0442\u043e\u043c\u0443 \u043d\u0435\u043e\u0431\u0445\u043e\u0434\u0438\u043c\u043e \u043f\u0440\u043e\u043f\u0438\u0441\u0430\u0442\u044c \u0430\u043b\u0444\u0430\u0432\u0438\u0442 \u043e\u0442\u0434\u0435\u043b\u044c\u043d\u043e\n",
        "    latin = string.ascii_lowercase\n",
        "    cyrillic = ''.join(chr(c) for c in range(ord('\u0430'), ord('\u0435') + 1))\n",
        "    cyrillic += '\u0451'\n",
        "    cyrillic += ''.join(chr(c) for c in range(ord('\u0436'), ord('\u044f') + 1))\n",
        "\n",
        "    decrypted = ''\n",
        "    for c in s:\n",
        "        if c.lower() not in latin and c.lower() not in cyrillic:\n",
        "            decrypted += c\n",
        "        elif c.lower() in latin:\n",
        "            ch = latin[(latin.find(c.lower()) - n) % len(latin)]\n",
        "            if c.isupper():\n",
        "                ch = ch.upper()\n",
        "            decrypted += ch\n",
        "        else:\n",
        "            ch = cyrillic[(cyrillic.find(c.lower()) - n) % len(cyrillic)]\n",
        "            if c.isupper():\n",
        "                ch = ch.upper()\n",
        "            decrypted += ch\n",
        "    return decrypted"
      ],
      "outputs": [],
      "execution_count": null
    },
    {
      "cell_type": "code",
      "metadata": {
        "jukit_cell_id": "MNrqITXZ35"
      },
      "source": [
        "assert decrypt(\"\u0422\u0443\u043b\u0435\u0437\u0445, \u041f\u043b\u0443!\", 3) == \"\u041f\u0440\u0438\u0432\u0435\u0442, \u041c\u0438\u0440!\"\n",
        "assert decrypt(\"Uryyb, Jbeyq!\", 13) == \"Hello, World!\"\n",
        "assert decrypt(\"\u041e\u0447\u0432\u0445\u0449 \u0432\u0446\u0433 \u044a\u043f\u0451\u0442 \u0439\u044c\u0430\u0437\u0451\u0442 \u0441\u043d\u044d\u043a\u0443\u0440\u0435\u043e\u0437\u0451\u0442 \u044e\u0440\u0438\u043b\u0437, \u0431\u044d \u044f\u0448\u043c\u0432\u0436 \u0434\u0432 \u0444\u044d\u044b\", 30) == \"\u0421\u044a\u0435\u0448\u044c \u0435\u0449\u0451 \u044d\u0442\u0438\u0445 \u043c\u044f\u0433\u043a\u0438\u0445 \u0444\u0440\u0430\u043d\u0446\u0443\u0437\u0441\u043a\u0438\u0445 \u0431\u0443\u043b\u043e\u043a, \u0434\u0430 \u0432\u044b\u043f\u0435\u0439 \u0436\u0435 \u0447\u0430\u044e\"\n",
        "print(\"Tests passed\")"
      ],
      "outputs": [
        {
          "name": "stdout",
          "output_type": "stream",
          "text": [
            "Tests passed\n"
          ]
        }
      ],
      "execution_count": 2
    },
    {
      "cell_type": "markdown",
      "metadata": {
        "jukit_cell_id": "FCKbOqkpiu"
      },
      "source": [
        "#### \u0417\u0430\u0434\u0430\u0447\u0430 3.\n",
        "\n",
        "\u041d\u0430\u043f\u0438\u0448\u0438\u0442\u0435 \u0444\u0443\u043d\u043a\u0446\u0438\u044e ngrams, \u043a\u043e\u0442\u043e\u0440\u0430\u044f \u0431\u0443\u0434\u0435\u0442 \u0432\u043e\u0437\u0432\u0440\u0430\u0449\u0430\u0442\u044c \u0432\u0441\u0435 n-\u0433\u0440\u0430\u043c\u044b \u0434\u043b\u044f \u0441\u043f\u0438\u0441\u043a\u0430 \u0441 \u043b\u044e\u0431\u044b\u043c \u043a\u043e\u043b\u0438\u0447\u0435\u0441\u0442\u0432\u043e\u043c \u044d\u043b\u0435\u043c\u0435\u043d\u0442\u043e\u0432 (\u0441\u043b\u043e\u0432). \u041d\u0430\u043f\u0440\u0438\u043c\u0435\u0440:\n",
        "\n",
        "    ngrams([1, 2, 3], 2) -> [[1, 2], [2, 3]]\n",
        "\n",
        "\u0415\u0441\u0442\u044c \u043b\u0438 \u0433\u043e\u0442\u043e\u0432\u044b\u0435 \u0440\u0435\u0430\u043b\u0438\u0437\u0430\u0446\u0438\u0438 \u0442\u0430\u043a\u043e\u0439 \u0444\u0443\u043d\u043a\u0446\u0438\u0438? (\u0441\u0432\u043e\u044e \u0441\u043e\u0431\u0441\u0442\u0432\u0435\u043d\u043d\u0443\u044e \u0432\u0441\u0435 \u0440\u0430\u0432\u043d\u043e \u043d\u0430\u043f\u0438\u0448\u0438\u0442\u0435...)"
      ]
    },
    {
      "cell_type": "code",
      "metadata": {
        "jukit_cell_id": "H6rMHmnwa2"
      },
      "source": [
        "def ngrams(lst: list, n: int, acc=None)-> list:\n",
        "    # \u042d\u0442\u0430 \u0441\u0442\u0440\u043e\u0447\u043a\u0430 \u043d\u0443\u0436\u043d\u0430 \u043f\u043e\u0442\u043e\u043c\u0443, \u0447\u0442\u043e \u0441\u0434\u0435\u043b\u0430\u0439 \u043c\u044b acc \u0434\u0435\u0444\u043e\u043b\u0442\u043d\u044b\u043c \u043f\u0443\u0441\u0442\u044b\u043c \u0441\u043f\u0438\u0441\u043a\u043e\u043c[],\n",
        "    # \u041f\u0440\u0438 \u0432\u044b\u0437\u043e\u0432\u0435 \u0444\u0443\u043d\u043a\u0446\u0438\u0438 \u043f\u043e\u0432\u0442\u043e\u0440\u043d\u043e \u0441\u043f\u0438\u0441\u043e\u043a \u043d\u0435 \u0443\u0434\u0430\u043b\u0438\u0442\u044c\u0441\u044f \u0438\u0437 \u043f\u0430\u043c\u044f\u0442\u0438, \u0438\u0437-\u0437\u0430 \u0447\u0435\u0433\u043e \u043f\u0440\u043e\u0433\u0440\u0430\u043c\u043c\u0430 \u043d\u0435 \u0431\u0443\u0434\u0435\u0442 \u043f\u0440\u0430\u0432\u0438\u043b\u044c\u043d\u043e \u0440\u0430\u0431\u043e\u0442\u0430\u0442\u044c\n",
        "    acc = [] if acc is None else acc\n",
        "\n",
        "    if len(lst) <= n - 1:\n",
        "        return acc\n",
        "\n",
        "    acc += [lst[:n:]]\n",
        "\n",
        "    return ngrams(lst[1::], n, acc)"
      ],
      "outputs": [],
      "execution_count": null
    },
    {
      "cell_type": "code",
      "metadata": {
        "jukit_cell_id": "gRiwM0PWif"
      },
      "source": [
        "assert ngrams([1, 2, 3, 4, 5, 6], 3) == [[1, 2, 3], [2, 3, 4], [3, 4, 5], [4, 5, 6]]\n",
        "assert ngrams([1, 2, 3], 2) == [[1, 2], [2, 3]]\n",
        "assert ngrams(\"\u0421\u044a\u0435\u0448\u044c \u0435\u0449\u0451 \u044d\u0442\u0438\u0445 \u043c\u044f\u0433\u043a\u0438\u0445 \u0444\u0440\u0430\u043d\u0446\u0443\u0437\u0441\u043a\u0438\u0445 \u0431\u0443\u043b\u043e\u043a, \u0434\u0430 \u0432\u044b\u043f\u0435\u0439 \u0436\u0435 \u0447\u0430\u044e\".split(), 4) == [['\u0421\u044a\u0435\u0448\u044c', '\u0435\u0449\u0451', '\u044d\u0442\u0438\u0445', '\u043c\u044f\u0433\u043a\u0438\u0445'],\n",
        " ['\u0435\u0449\u0451', '\u044d\u0442\u0438\u0445', '\u043c\u044f\u0433\u043a\u0438\u0445', '\u0444\u0440\u0430\u043d\u0446\u0443\u0437\u0441\u043a\u0438\u0445'],\n",
        " ['\u044d\u0442\u0438\u0445', '\u043c\u044f\u0433\u043a\u0438\u0445', '\u0444\u0440\u0430\u043d\u0446\u0443\u0437\u0441\u043a\u0438\u0445', '\u0431\u0443\u043b\u043e\u043a,'],\n",
        " ['\u043c\u044f\u0433\u043a\u0438\u0445', '\u0444\u0440\u0430\u043d\u0446\u0443\u0437\u0441\u043a\u0438\u0445', '\u0431\u0443\u043b\u043e\u043a,', '\u0434\u0430'],\n",
        " ['\u0444\u0440\u0430\u043d\u0446\u0443\u0437\u0441\u043a\u0438\u0445', '\u0431\u0443\u043b\u043e\u043a,', '\u0434\u0430', '\u0432\u044b\u043f\u0435\u0439'],\n",
        " ['\u0431\u0443\u043b\u043e\u043a,', '\u0434\u0430', '\u0432\u044b\u043f\u0435\u0439', '\u0436\u0435'],\n",
        " ['\u0434\u0430', '\u0432\u044b\u043f\u0435\u0439', '\u0436\u0435', '\u0447\u0430\u044e']]\n",
        "\n",
        "print(\"Tests passed\")"
      ],
      "outputs": [
        {
          "name": "stdout",
          "output_type": "stream",
          "text": [
            "Tests passed\n"
          ]
        }
      ],
      "execution_count": 3
    },
    {
      "cell_type": "markdown",
      "metadata": {
        "jukit_cell_id": "d3naq13dHC"
      },
      "source": [
        "#### \u0417\u0430\u0434\u0430\u0447\u0430 4. \n",
        "\n",
        "\u0414\u043e\u043f\u0443\u0441\u0442\u0438\u043c, \u0443 \u043d\u0430\u0441 \u0435\u0441\u0442\u044c \u0444\u0443\u043d\u043a\u0446\u0438\u044f, \u043a\u043e\u0442\u043e\u0440\u0430\u044f \u0432\u043e\u0437\u0432\u0440\u0430\u0449\u0430\u0435\u0442 \u0441\u0443\u043c\u043c\u0443 \u0441\u0432\u043e\u0438\u0445 \u0430\u0440\u0433\u0443\u043c\u0435\u043d\u0442\u043e\u0432. \u041d\u0430\u043f\u0438\u0448\u0438\u0442\u0435 \u0434\u0435\u043a\u043e\u0440\u0430\u0442\u043e\u0440, \u043a\u043e\u0442\u043e\u0440\u044b\u0439 \u0431\u0443\u0434\u0435\u0442 \u043f\u043e\u0437\u0432\u043e\u043b\u044f\u0442\u044c \u0442\u0430\u043a\u043e\u0439 \u0444\u0443\u043d\u043a\u0446\u0438\u0438 \u0441\u043a\u043b\u0430\u0434\u044b\u0432\u0430\u0442\u044c \u043f\u043e\u043f\u0430\u0440\u043d\u043e \u044d\u043b\u0435\u043c\u0435\u043d\u0442\u044b \u0432 \u043a\u043e\u0440\u0442\u0435\u0436\u0430\u0445, \u043a\u043e\u0442\u043e\u0440\u044b\u0435 \u043f\u0435\u0440\u0435\u0434\u0430\u044e\u0442\u0441\u044f \u0441\u043f\u0438\u0441\u043a\u043e\u043c, \u0442\u043e \u0435\u0441\u0442\u044c, \u0441\u043f\u0438\u0441\u043e\u043a [(1, 2), (3, 4)] \u0432\u0435\u0440\u043d\u0435\u0442 [3, 7]."
      ]
    },
    {
      "cell_type": "code",
      "metadata": {
        "jukit_cell_id": "ltmBLUiQNj"
      },
      "source": [
        "def list_sum(f):\n",
        "    def inner(*args):\n",
        "        if all([type(arg) is list for arg in args]):\n",
        "            output = []\n",
        "            for arg in args:\n",
        "                output.append(f(*arg))\n",
        "            return output\n",
        "        return f(*args)\n",
        "    return inner\n",
        "\n",
        "\n",
        "@list_sum\n",
        "def my_sum(*args):\n",
        "    sum = 0\n",
        "    for arg in args:\n",
        "        sum += arg\n",
        "    return sum"
      ],
      "outputs": [],
      "execution_count": null
    },
    {
      "cell_type": "code",
      "metadata": {
        "jukit_cell_id": "1in0pUZqEz"
      },
      "source": [
        "assert my_sum(1, 2, 3, 4,) == 10\n",
        "assert my_sum([1, 2], [3, 4]) == [3, 7] \n",
        "print(\"Tests passed\")"
      ],
      "outputs": [
        {
          "name": "stdout",
          "output_type": "stream",
          "text": [
            "Tests passed\n"
          ]
        }
      ],
      "execution_count": 4
    },
    {
      "cell_type": "markdown",
      "metadata": {
        "jukit_cell_id": "39DvpFgPIn"
      },
      "source": [
        "#### \u0417\u0430\u0434\u0430\u0447\u0430 5. \n",
        "\n",
        "\u0414\u0430\u043d\u043e \u0447\u0438\u0441\u043b\u043e x. \u0424\u0443\u043d\u043a\u0446\u0438\u044f \u0434\u043e\u043b\u0436\u043d\u0430 \u0432\u043e\u0437\u0432\u0440\u0430\u0449\u0430\u0442\u044c True, \u0435\u0441\u043b\u0438 \u0447\u0438\u0441\u043b\u043e \u044f\u0432\u043b\u044f\u0435\u0442\u0441\u044f \u0441\u0442\u0435\u043f\u0435\u043d\u044c\u044e 3, \u0438 False \u0432 \u043e\u0431\u0440\u0430\u0442\u043d\u043e\u043c \u0441\u043b\u0443\u0447\u0430\u0435. \u041d\u0430\u043f\u0440\u0438\u043c\u0435\u0440: 27 => True (27 == 3 \\*\\* 3)"
      ]
    },
    {
      "cell_type": "code",
      "metadata": {
        "jukit_cell_id": "dD0DvGNkwj"
      },
      "source": [
        "def is_power_of_three(n: int) -> bool:\n",
        "    if n == 1:\n",
        "        return True\n",
        "    if n % 3 != 0:\n",
        "        return False\n",
        "    return is_power_of_three(n // 3)"
      ],
      "outputs": [],
      "execution_count": null
    },
    {
      "cell_type": "code",
      "metadata": {
        "jukit_cell_id": "zibEGcwHdX"
      },
      "source": [
        "assert is_power_of_three(1) is True\n",
        "assert is_power_of_three(3) is True\n",
        "assert is_power_of_three(6) is False\n",
        "assert is_power_of_three(15) is False\n",
        "assert is_power_of_three(27) is True\n",
        "print(\"Tests passed\")"
      ],
      "outputs": [
        {
          "name": "stdout",
          "output_type": "stream",
          "text": [
            "Tests passed\n"
          ]
        }
      ],
      "execution_count": 5
    },
    {
      "cell_type": "markdown",
      "metadata": {
        "jukit_cell_id": "twXOr9w8iT"
      },
      "source": [
        "#### \u0417\u0430\u0434\u0430\u0447\u0430 6 (5 \u0431\u0430\u043b\u043b\u043e\u0432).\n",
        "\n",
        "\u0414\u0430\u043d\u044b \u0447\u0438\u0441\u043b\u0430 \u043e\u0442 1 \u0434\u043e n (1, 2, 3, ... n), \u0430 \u0442\u0430\u043a\u0436\u0435 \u0447\u0438\u0441\u043b\u043e k < n!. \u0412\u044b\u0432\u0435\u0434\u0438\u0442\u0435 k-\u044e \u043f\u0435\u0440\u0435\u0441\u0442\u0430\u043d\u043e\u0432\u043a\u0443 \u0434\u043b\u044f \u044d\u0442\u0438\u0445 \u0447\u0438\u0441\u0435\u043b. "
      ]
    },
    {
      "cell_type": "code",
      "metadata": {
        "jukit_cell_id": "lXr09S34HG"
      },
      "source": [
        "def permutations(nums: list) -> list:\n",
        "    if len(nums) == 1:\n",
        "        return [str(nums[0])]\n",
        "    perm = []\n",
        "\n",
        "    for i in nums:\n",
        "        for j in permutations([elem for elem in nums if elem != i]):\n",
        "            perm.append(str(i) + j)\n",
        "    return perm"
      ],
      "outputs": [],
      "execution_count": null
    },
    {
      "cell_type": "code",
      "metadata": {
        "jukit_cell_id": "se15tpwoay"
      },
      "source": [
        "permutations('1234')"
      ],
      "outputs": [
        {
          "output_type": "stream",
          "name": "stdout",
          "text": "\n"
        },
        {
          "output_type": "execute_result",
          "execution_count": 6,
          "data": {
            "text/plain": "['1234',\n '1243',\n '1324',\n '1342',\n '1423',\n '1432',\n '2134',\n '2143',\n '2314',\n '2341',\n '2413',\n '2431',\n '3124',\n '3142',\n '3214',\n '3241',\n '3412',\n '3421',\n '4123',\n '4132',\n '4213',\n '4231',\n '4312',\n '4321']"
          },
          "metadata": {}
        }
      ],
      "execution_count": 6
    },
    {
      "cell_type": "code",
      "metadata": {
        "jukit_cell_id": "RziLs9FDqM"
      },
      "source": [
        "permutations('123')"
      ],
      "outputs": [
        {
          "output_type": "stream",
          "name": "stdout",
          "text": "\n"
        },
        {
          "output_type": "execute_result",
          "execution_count": 7,
          "data": {
            "text/plain": "['123', '132', '213', '231', '312', '321']"
          },
          "metadata": {}
        }
      ],
      "execution_count": 7
    },
    {
      "cell_type": "code",
      "metadata": {
        "jukit_cell_id": "V3fmjTQ3mV"
      },
      "source": [
        "def factorial(n: int, acc=1):\n",
        "    if n == 0:\n",
        "        return acc\n",
        "    return factorial(n - 1, n * acc)\n",
        "\n",
        "\n",
        "def kth_perm(nums: list, k: int, acc='') -> str:\n",
        "    if len(nums) == 1:\n",
        "        return acc + str(nums[0])\n",
        "\n",
        "    # \u0412\u044b\u0447\u0438\u0441\u043b\u044f\u0435\u043c, \u0432 \u043a\u0430\u043a\u043e\u0439 \u0447\u0430\u0441\u0442\u0438 (\u043f\u043e\u043b\u043e\u0432\u0438\u043d\u0435, \u0442\u0440\u0435\u0442\u0438, \u0447\u0435\u0442\u0432\u0435\u0440\u0442\u0438...) \u043d\u0430\u0445\u043e\u0434\u0438\u0442\u0441\u044f \u043d\u0430\u0448\u0430 \u043f\u0435\u0440\u0435\u0441\u0442\u0430\u043d\u043e\u0432\u043a\u0430\n",
        "    # \u0427\u0430\u0441\u0442\u044c - \u0432\u0441\u0435 \u043f\u0435\u0440\u0435\u0441\u0442\u0430\u043d\u043e\u0432\u043a\u0438, \u043d\u0430\u0447\u0438\u043d\u0430\u044e\u0449\u0438\u0435\u0441\u044f \u0441 \u043e\u0434\u043d\u043e\u0433\u043e \u044d\u043b\u0435\u043c\u0435\u043d\u0442\u0430\n",
        "    # \u0420\u0430\u0437\u043c\u0435\u0440 \u0447\u0430\u0441\u0442\u0438 = (n - 1)!\n",
        "    part_size = factorial(len(nums) - 1)\n",
        "    part = ((k - 1) // part_size) + 1\n",
        "\n",
        "    # \u0422\u0435\u043f\u0435\u0440\u044c \u043a\u043e\u043d\u0432\u0435\u0440\u0442\u0438\u0440\u0443\u0435\u043c \u043d\u043e\u043c\u0435\u0440 \u0447\u0430\u0441\u0442\u0438 \u0432 \u0438\u043d\u0434\u0435\u043a\u0441 \u0435\u0435 \u043d\u0430\u0447\u0430\u043b\u044c\u043d\u043e\u0433\u043e \u044d\u043b\u0435\u043c\u0435\u043d\u0442\u0430\n",
        "    acc += nums[part-1]\n",
        "    k = k - part_size * (part - 1)\n",
        "\n",
        "    # \u0423\u0434\u0430\u043b\u044f\u0435\u043c \u0438\u0441\u043f\u043e\u043b\u044c\u0437\u043e\u0432\u0430\u043d\u043d\u044b\u0439 \u044d\u043b\u0435\u043c\u0435\u043d\u0442\n",
        "    nums = [elem for elem in nums if elem != nums[part - 1]]\n",
        "    return kth_perm(nums, k, acc)"
      ],
      "outputs": [],
      "execution_count": null
    },
    {
      "cell_type": "code",
      "metadata": {
        "jukit_cell_id": "CC7UpMb20A"
      },
      "source": [
        "assert kth_perm(\"1234\", 17) == '3412'\n",
        "assert kth_perm(\"123\", 4) == \"231\"\n",
        "print(\"Tests passed\")"
      ],
      "outputs": [
        {
          "output_type": "stream",
          "name": "stdout",
          "text": "Tests passed\n"
        }
      ],
      "execution_count": 8
    },
    {
      "cell_type": "markdown",
      "metadata": {
        "jukit_cell_id": "LziOD3ftZ6"
      },
      "source": [
        "#### \u0421\u0435\u043c\u0438\u043d\u0430\u0440\u0441\u043a\u0430\u044f \u0437\u0430\u0434\u0430\u0447\u0430 \u043d\u0430 \u0447\u0438\u0441\u043b\u0430 \u0424\u0438\u0431\u043e\u043d\u0430\u0447\u0447\u0438.\n",
        "\n",
        "\u041d\u0430\u043f\u0438\u0448\u0438\u0442\u0435 \u0444\u0443\u043d\u043a\u0446\u0438\u044e, \u043a\u043e\u0442\u043e\u0440\u0430\u044f \u0431\u0443\u0434\u0435\u0442 \u043d\u0430\u0445\u043e\u0434\u0438\u0442\u044c n-\u0435 \u0447\u0438\u0441\u043b\u043e \u0424\u0438\u0431\u043e\u043d\u0430\u0447\u0447\u0438 \u0440\u0435\u043a\u0443\u0440\u0441\u0438\u0432\u043d\u043e.\n",
        "\n",
        "\u0410 \u0442\u0435\u043f\u0435\u0440\u044c \u0437\u0430 \u043b\u0438\u043d\u0435\u0439\u043d\u043e\u0435 \u0432\u0440\u0435\u043c\u044f.\n",
        "\n",
        "\u0414\u043e\u043f\u043e\u043b\u043d\u0438\u0442\u0435\u043b\u044c\u043d\u043e\u0435 \u0437\u0430\u0434\u0430\u043d\u0438\u0435: \u0432\u044b\u0437\u0432\u0430\u0442\u044c \u0444\u0443\u043d\u043a\u0446\u0438\u044e \u043d\u0435 \u0431\u043e\u043b\u0435\u0435 n \u0440\u0430\u0437"
      ]
    },
    {
      "cell_type": "code",
      "metadata": {
        "jukit_cell_id": "bw8Vo4KCPs"
      },
      "source": [
        "count = 0\n",
        "\n",
        "\n",
        "def fib(n, k=0, acc1=1, acc2=0):\n",
        "    global count\n",
        "    count += 1\n",
        "\n",
        "    if n == 0:\n",
        "        return 0\n",
        "    if n == 1:\n",
        "        return 1\n",
        "    if n == 2:\n",
        "        return 1\n",
        "    if k == n - 1:\n",
        "        return acc1\n",
        "\n",
        "    k += 1\n",
        "    _acc = acc1\n",
        "    acc1 += acc2\n",
        "    acc2 = _acc\n",
        "    return fib(n, k, acc1, acc2)"
      ],
      "outputs": [],
      "execution_count": null
    },
    {
      "cell_type": "code",
      "metadata": {
        "jukit_cell_id": "JoFJmPOaDo"
      },
      "source": [
        "assert fib(15) == 610\n",
        "assert count == 15\n",
        "count = 0\n",
        "assert fib(30) == 832040\n",
        "assert count == 30\n",
        "count = 0\n",
        "print(\"Tests passed\")"
      ],
      "outputs": [
        {
          "name": "stdout",
          "output_type": "stream",
          "text": [
            "Tests passed\n"
          ]
        }
      ],
      "execution_count": 9
    },
    {
      "cell_type": "code",
      "metadata": {
        "jukit_cell_id": "lkhMMc39eL"
      },
      "source": [],
      "outputs": [],
      "execution_count": null
    }
  ],
  "metadata": {
    "anaconda-cloud": {},
    "kernelspec": {
      "display_name": "python",
      "language": "python",
      "name": "python3"
    }
  },
  "nbformat": 4,
  "nbformat_minor": 4
}
