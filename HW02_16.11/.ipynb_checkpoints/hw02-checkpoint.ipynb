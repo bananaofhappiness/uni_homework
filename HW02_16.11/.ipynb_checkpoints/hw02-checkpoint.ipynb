{
 "cells": [
  {
   "cell_type": "markdown",
   "metadata": {
    "jukit_cell_id": "wODVr3g9yh"
   },
   "source": [
    "#### Задача 1.\n",
    "\n",
    "Напишите функцию, которая будет делить строчку на слова. Избавляться от пунктуации можно при помощи модуля string или метода str.maketrans. Функция должна возвращать генератор, который будет выдавать одно слово за другим."
   ]
  },
  {
   "cell_type": "code",
   "execution_count": 1,
   "metadata": {
    "jukit_cell_id": "oBZSbLI4ut"
   },
   "outputs": [],
   "source": [
    "import string\n",
    "\n",
    "\n",
    "def words(s: str):\n",
    "    table = s.maketrans('', '', string.punctuation)\n",
    "    s = s.translate(table)\n",
    "    s = s.split()\n",
    "    for w in s:\n",
    "        yield w"
   ]
  },
  {
   "cell_type": "code",
   "execution_count": 2,
   "metadata": {
    "jukit_cell_id": "pxgj23ljjr"
   },
   "outputs": [
    {
     "name": "stdout",
     "output_type": "stream",
     "text": [
      "Tests passed\n"
     ]
    }
   ],
   "source": [
    "assert list(words(\"Hello, World\")) == ['Hello', 'World']\n",
    "assert list(words(\"Привет, Мир!\")) == ['Привет', 'Мир']\n",
    "print(\"Tests passed\")"
   ]
  },
  {
   "cell_type": "markdown",
   "metadata": {
    "jukit_cell_id": "GOmba4KDxK"
   },
   "source": [
    "#### Задача 2.\n",
    "\n",
    "Шифр Цезаря - самый простой и известный способ шифровать свои данные. Его смысл в том, чтобы все буквы заменить по алфавиту со сдвигом, например, если сдвиг = 2, то буква а превратится в в, б - в г и так далее. Я будет превращаться в б. (Подробнее можно почитать на вики).\n",
    "\n",
    "Напишите функцию для расшифровки строки. Функция принимает строку и число = сдвиг и должна вернуть расшифрованную строку."
   ]
  },
  {
   "cell_type": "code",
   "execution_count": 3,
   "metadata": {
    "jukit_cell_id": "yzOIGyIe8j"
   },
   "outputs": [],
   "source": [
    "import string\n",
    "\n",
    "\n",
    "def decrypt(s: str, n: int):\n",
    "    # Если делать просто через юникод, то мы обязательно выйдем за границы алфавита, поэтому необходимо прописать алфавит отдельно\n",
    "    latin = string.ascii_lowercase\n",
    "    cyrillic = ''.join(chr(c) for c in range(ord('а'), ord('е') + 1))\n",
    "    cyrillic += 'ё'\n",
    "    cyrillic += ''.join(chr(c) for c in range(ord('ж'), ord('я') + 1))\n",
    "\n",
    "    decrypted = ''\n",
    "    for c in s:\n",
    "        if c.lower() not in latin and c.lower() not in cyrillic:\n",
    "            decrypted += c\n",
    "        elif c.lower() in latin:\n",
    "            ch = latin[(latin.find(c.lower()) - n) % len(latin)]\n",
    "            if c.isupper():\n",
    "                ch = ch.upper()\n",
    "            decrypted += ch\n",
    "        else:\n",
    "            ch = cyrillic[(cyrillic.find(c.lower()) - n) % len(cyrillic)]\n",
    "            if c.isupper():\n",
    "                ch = ch.upper()\n",
    "            decrypted += ch\n",
    "    return decrypted"
   ]
  },
  {
   "cell_type": "code",
   "execution_count": 4,
   "metadata": {
    "jukit_cell_id": "MNrqITXZ35"
   },
   "outputs": [
    {
     "name": "stdout",
     "output_type": "stream",
     "text": [
      "Tests passed\n"
     ]
    }
   ],
   "source": [
    "assert decrypt(\"Тулезх, Плу!\", 3) == \"Привет, Мир!\"\n",
    "assert decrypt(\"Uryyb, Jbeyq!\", 13) == \"Hello, World!\"\n",
    "assert decrypt(\"Очвхщ вцг ъпёт йьазёт снэкуреозёт юрилз, бэ яшмвж дв фэы\", 30) == \"Съешь ещё этих мягких французских булок, да выпей же чаю\"\n",
    "print(\"Tests passed\")"
   ]
  },
  {
   "cell_type": "markdown",
   "metadata": {
    "jukit_cell_id": "FCKbOqkpiu"
   },
   "source": [
    "#### Задача 3.\n",
    "\n",
    "Напишите функцию ngrams, которая будет возвращать все n-грамы для списка с любым количеством элементов (слов). Например:\n",
    "\n",
    "    ngrams([1, 2, 3], 2) -> [[1, 2], [2, 3]]\n",
    "\n",
    "Есть ли готовые реализации такой функции? (свою собственную все равно напишите...)"
   ]
  },
  {
   "cell_type": "code",
   "execution_count": 5,
   "metadata": {
    "jukit_cell_id": "H6rMHmnwa2"
   },
   "outputs": [],
   "source": [
    "def ngrams(lst: list, n: int, acc=None)-> list:\n",
    "    # Эта строчка нужна потому, что сделай мы acc дефолтным пустым списком[],\n",
    "    # При вызове функции повторно список не удалиться из памяти, из-за чего программа не будет правильно работать\n",
    "    acc = [] if acc is None else acc\n",
    "\n",
    "    if len(lst) <= n - 1:\n",
    "        return acc\n",
    "\n",
    "    acc += [lst[:n:]]\n",
    "\n",
    "    return ngrams(lst[1::], n, acc)"
   ]
  },
  {
   "cell_type": "code",
   "execution_count": 26,
   "metadata": {
    "jukit_cell_id": "gRiwM0PWif"
   },
   "outputs": [
    {
     "name": "stdout",
     "output_type": "stream",
     "text": [
      "Tests passed\n"
     ]
    }
   ],
   "source": [
    "assert ngrams([1, 2, 3, 4, 5, 6], 3) == [[1, 2, 3], [2, 3, 4], [3, 4, 5], [4, 5, 6]]\n",
    "assert ngrams([1, 2, 3], 2) == [[1, 2], [2, 3]]\n",
    "assert ngrams(\"Съешь ещё этих мягких французских булок, да выпей же чаю\".split(), 4) == [['Съешь', 'ещё', 'этих', 'мягких'],\n",
    " ['ещё', 'этих', 'мягких', 'французских'],\n",
    " ['этих', 'мягких', 'французских', 'булок,'],\n",
    " ['мягких', 'французских', 'булок,', 'да'],\n",
    " ['французских', 'булок,', 'да', 'выпей'],\n",
    " ['булок,', 'да', 'выпей', 'же'],\n",
    " ['да', 'выпей', 'же', 'чаю']]\n",
    "\n",
    "print(\"Tests passed\")"
   ]
  },
  {
   "cell_type": "markdown",
   "metadata": {
    "jukit_cell_id": "d3naq13dHC"
   },
   "source": [
    "#### Задача 4. \n",
    "\n",
    "Допустим, у нас есть функция, которая возвращает сумму своих аргументов. Напишите декоратор, который будет позволять такой функции складывать попарно элементы в кортежах, которые передаются списком, то есть, список [(1, 2), (3, 4)] вернет [3, 7]."
   ]
  },
  {
   "cell_type": "code",
   "execution_count": 7,
   "metadata": {
    "jukit_cell_id": "ltmBLUiQNj"
   },
   "outputs": [],
   "source": [
    "def list_sum(f):\n",
    "    def inner(*args):\n",
    "        if all([type(arg) is list for arg in args]):\n",
    "            output = []\n",
    "            for arg in args:\n",
    "                output.append(f(*arg))\n",
    "            return output\n",
    "        return f(*args)\n",
    "    return inner\n",
    "\n",
    "\n",
    "@list_sum\n",
    "def my_sum(*args):\n",
    "    sum = 0\n",
    "    for arg in args:\n",
    "        sum += arg\n",
    "    return sum"
   ]
  },
  {
   "cell_type": "code",
   "execution_count": 8,
   "metadata": {
    "jukit_cell_id": "1in0pUZqEz"
   },
   "outputs": [
    {
     "name": "stdout",
     "output_type": "stream",
     "text": [
      "Tests passed\n"
     ]
    }
   ],
   "source": [
    "assert my_sum(1, 2, 3, 4,) == 10\n",
    "assert my_sum([1, 2], [3, 4]) == [3, 7] \n",
    "print(\"Tests passed\")"
   ]
  },
  {
   "cell_type": "markdown",
   "metadata": {
    "jukit_cell_id": "39DvpFgPIn"
   },
   "source": [
    "#### Задача 5. \n",
    "\n",
    "Дано число x. Функция должна возвращать True, если число является степенью 3, и False в обратном случае. Например: 27 => True (27 == 3 \\*\\* 3)"
   ]
  },
  {
   "cell_type": "code",
   "execution_count": 9,
   "metadata": {
    "jukit_cell_id": "dD0DvGNkwj"
   },
   "outputs": [],
   "source": [
    "def is_power_of_three(n: int) -> bool:\n",
    "    if n == 1:\n",
    "        return True\n",
    "    if n % 3 != 0:\n",
    "        return False\n",
    "    return is_power_of_three(n // 3)"
   ]
  },
  {
   "cell_type": "code",
   "execution_count": 10,
   "metadata": {
    "jukit_cell_id": "zibEGcwHdX"
   },
   "outputs": [
    {
     "name": "stdout",
     "output_type": "stream",
     "text": [
      "Tests passed\n"
     ]
    }
   ],
   "source": [
    "assert is_power_of_three(1) is True\n",
    "assert is_power_of_three(3) is True\n",
    "assert is_power_of_three(6) is False\n",
    "assert is_power_of_three(15) is False\n",
    "assert is_power_of_three(27) is True\n",
    "print(\"Tests passed\")"
   ]
  },
  {
   "cell_type": "markdown",
   "metadata": {
    "jukit_cell_id": "twXOr9w8iT"
   },
   "source": [
    "#### Задача 6 (5 баллов).\n",
    "\n",
    "Даны числа от 1 до n (1, 2, 3, ... n), а также число k < n!. Выведите k-ю перестановку для этих чисел. "
   ]
  },
  {
   "cell_type": "code",
   "execution_count": 11,
   "metadata": {
    "jukit_cell_id": "lXr09S34HG"
   },
   "outputs": [],
   "source": [
    "# your code here"
   ]
  },
  {
   "cell_type": "markdown",
   "metadata": {
    "jukit_cell_id": "LziOD3ftZ6"
   },
   "source": [
    "#### Семинарская задача на числа Фибоначчи.\n",
    "\n",
    "Напишите функцию, которая будет находить n-е число Фибоначчи рекурсивно.\n",
    "\n",
    "А теперь за линейное время.\n",
    "\n",
    "Дополнительное задание: вызвать функцию не более n раз"
   ]
  },
  {
   "cell_type": "code",
   "execution_count": 17,
   "metadata": {
    "jukit_cell_id": "bw8Vo4KCPs"
   },
   "outputs": [],
   "source": [
    "count = 0\n",
    "\n",
    "\n",
    "def fib(n, k=0, acc1=1, acc2=0):\n",
    "    global count\n",
    "    count += 1\n",
    "\n",
    "    if n == 0:\n",
    "        return 0\n",
    "    if n == 1:\n",
    "        return 1\n",
    "    if n == 2:\n",
    "        return 1\n",
    "    if k == n - 1:\n",
    "        return acc1\n",
    "\n",
    "    k += 1\n",
    "    _acc = acc1\n",
    "    acc1 += acc2\n",
    "    acc2 = _acc\n",
    "    return fib(n, k, acc1, acc2)"
   ]
  },
  {
   "cell_type": "code",
   "execution_count": 18,
   "metadata": {
    "jukit_cell_id": "JoFJmPOaDo"
   },
   "outputs": [
    {
     "name": "stdout",
     "output_type": "stream",
     "text": [
      "Tests passed\n"
     ]
    }
   ],
   "source": [
    "assert fib(15) == 610\n",
    "assert count == 15\n",
    "count = 0\n",
    "assert fib(30) == 832040\n",
    "assert count == 30\n",
    "count = 0\n",
    "print(\"Tests passed\")"
   ]
  },
  {
   "cell_type": "code",
   "execution_count": null,
   "metadata": {},
   "outputs": [],
   "source": []
  }
 ],
 "metadata": {
  "anaconda-cloud": {},
  "kernelspec": {
   "display_name": "Python 3 (ipykernel)",
   "language": "python",
   "name": "python3"
  },
  "language_info": {
   "codemirror_mode": {
    "name": "ipython",
    "version": 3
   },
   "file_extension": ".py",
   "mimetype": "text/x-python",
   "name": "python",
   "nbconvert_exporter": "python",
   "pygments_lexer": "ipython3",
   "version": "3.12.7"
  }
 },
 "nbformat": 4,
 "nbformat_minor": 4
}
