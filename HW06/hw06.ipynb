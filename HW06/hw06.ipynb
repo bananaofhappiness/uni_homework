{
 "cells": [
  {
   "cell_type": "code",
   "execution_count": 1,
   "metadata": {
    "jukit_cell_id": "2QcTQh0qhi"
   },
   "outputs": [],
   "source": [
    "import re"
   ]
  },
  {
   "cell_type": "markdown",
   "metadata": {
    "jukit_cell_id": "7qrJJJR6wb"
   },
   "source": [
    "Для всех задач, где формулировка вида \"найдите в тексте\", тексты для проверки вы можете выбирать абсолютно любые. "
   ]
  },
  {
   "cell_type": "markdown",
   "metadata": {
    "jukit_cell_id": "1WsTrqQJvl"
   },
   "source": [
    "#### Задача 1. \n",
    "\n",
    "Найдите в тексте все смайлики вида :(, :), :-(, :-)."
   ]
  },
  {
   "cell_type": "code",
   "execution_count": 20,
   "metadata": {
    "jukit_cell_id": "AyXl3YQt0q"
   },
   "outputs": [
    {
     "name": "stdout",
     "output_type": "stream",
     "text": [
      ":(\n",
      ":-)\n",
      ":(\n",
      ":-)\n",
      ":^(\n",
      ":^)\n"
     ]
    }
   ],
   "source": [
    "text = \"Любой :( текст со :-) смайликами :( :-) :^( :^)\"\n",
    "for m in re.finditer(r\":[-^]*[()]\", text):\n",
    "    print(m.group())"
   ]
  },
  {
   "cell_type": "markdown",
   "metadata": {
    "jukit_cell_id": "YXR3qnzoel"
   },
   "source": [
    "#### Задача 2.\n",
    "\n",
    "Некоторые любят выделять особо важные места в тексте с помощью нижнего подчёркивания, например: \"...здесь \\_очень важно\\_ отметить...\" (дело в том, что нижние подчеркивания в некоторых редакторах автоматически превращаются в курсив).\n",
    "\n",
    "Ищем такие выделения, но не длиннее 5 слов."
   ]
  },
  {
   "cell_type": "code",
   "execution_count": 4,
   "metadata": {
    "jukit_cell_id": "TIt5sQ5SzI"
   },
   "outputs": [
    {
     "name": "stdout",
     "output_type": "stream",
     "text": [
      "_очень важно_\n",
      "_дело в том_\n",
      "_нижние подчеркивания_\n",
      "_редакторах_\n"
     ]
    }
   ],
   "source": [
    "# your code here\n",
    "text = '_Некоторые любят выделять особо важные места_ в тексте с помощью нижнего подчёркивания, например: \"...здесь _очень важно_ отметить...\" (_дело в том_, что _нижние подчеркивания_ в некоторых _редакторах_ автоматически превращаются в курсив).'\n",
    "\n",
    "# Я не использую \\w, потому что он содержит _, и из-за того в тексте выше\n",
    "# регулярка находит \"_нижние подчеркивания_ в некоторых _\"\n",
    "# вместо \"_нижние подчеркивания_\" и \"_редакторах_\"\n",
    "for m in re.finditer(r\"_(?:[A-Za-zА-Яа-яёË]+\\s?){1,5}?_\", text):\n",
    "    print(m.group())"
   ]
  },
  {
   "cell_type": "markdown",
   "metadata": {
    "jukit_cell_id": "4o74TDaoP4"
   },
   "source": [
    "#### Задача 3.\n",
    "\n",
    "Найдите в тексте все куски, которые взяты в круглые скобки. "
   ]
  },
  {
   "cell_type": "code",
   "execution_count": 26,
   "metadata": {
    "jukit_cell_id": "okBzHAmmub"
   },
   "outputs": [
    {
     "name": "stdout",
     "output_type": "stream",
     "text": [
      "(круглыми скобками)\n",
      "(круглых скобок)\n"
     ]
    },
    {
     "ename": "error",
     "evalue": "cannot refer to an open group at position 5",
     "output_type": "error",
     "traceback": [
      "\u001b[0;31m---------------------------------------------------------------------------\u001b[0m",
      "\u001b[0;31merror\u001b[0m                                     Traceback (most recent call last)",
      "Cell \u001b[0;32mIn[26], line 10\u001b[0m\n\u001b[1;32m      6\u001b[0m     \u001b[38;5;28mprint\u001b[39m(m\u001b[38;5;241m.\u001b[39mgroup())\n\u001b[1;32m      8\u001b[0m \u001b[38;5;66;03m# если есть, то я не знаю, есть такой набросок\u001b[39;00m\n\u001b[1;32m      9\u001b[0m \u001b[38;5;66;03m# работает в regex101, но даже так не ищет вложенные, и если на конце больше 1 ), то включает их все\u001b[39;00m\n\u001b[0;32m---> 10\u001b[0m \u001b[38;5;28;01mfor\u001b[39;00m m \u001b[38;5;129;01min\u001b[39;00m \u001b[43mre\u001b[49m\u001b[38;5;241;43m.\u001b[39;49m\u001b[43mfinditer\u001b[49m\u001b[43m(\u001b[49m\u001b[38;5;124;43mr\u001b[39;49m\u001b[38;5;124;43m\"\u001b[39;49m\u001b[38;5;124;43m(\u001b[39;49m\u001b[38;5;124;43m\\\u001b[39;49m\u001b[38;5;124;43m(.*\u001b[39;49m\u001b[38;5;124;43m\\\u001b[39;49m\u001b[38;5;124;43m1*.*\u001b[39;49m\u001b[38;5;124;43m\\\u001b[39;49m\u001b[38;5;124;43m))\u001b[39;49m\u001b[38;5;124;43m\"\u001b[39;49m\u001b[43m,\u001b[49m\u001b[43m \u001b[49m\u001b[43mtext2\u001b[49m\u001b[43m)\u001b[49m:\n\u001b[1;32m     11\u001b[0m     \u001b[38;5;28mprint\u001b[39m(m\u001b[38;5;241m.\u001b[39mgroup())\n",
      "File \u001b[0;32m~/.pyenv/versions/3.12.4/lib/python3.12/re/__init__.py:224\u001b[0m, in \u001b[0;36mfinditer\u001b[0;34m(pattern, string, flags)\u001b[0m\n\u001b[1;32m    219\u001b[0m \u001b[38;5;28;01mdef\u001b[39;00m \u001b[38;5;21mfinditer\u001b[39m(pattern, string, flags\u001b[38;5;241m=\u001b[39m\u001b[38;5;241m0\u001b[39m):\n\u001b[1;32m    220\u001b[0m \u001b[38;5;250m    \u001b[39m\u001b[38;5;124;03m\"\"\"Return an iterator over all non-overlapping matches in the\u001b[39;00m\n\u001b[1;32m    221\u001b[0m \u001b[38;5;124;03m    string.  For each match, the iterator returns a Match object.\u001b[39;00m\n\u001b[1;32m    222\u001b[0m \n\u001b[1;32m    223\u001b[0m \u001b[38;5;124;03m    Empty matches are included in the result.\"\"\"\u001b[39;00m\n\u001b[0;32m--> 224\u001b[0m     \u001b[38;5;28;01mreturn\u001b[39;00m \u001b[43m_compile\u001b[49m\u001b[43m(\u001b[49m\u001b[43mpattern\u001b[49m\u001b[43m,\u001b[49m\u001b[43m \u001b[49m\u001b[43mflags\u001b[49m\u001b[43m)\u001b[49m\u001b[38;5;241m.\u001b[39mfinditer(string)\n",
      "File \u001b[0;32m~/.pyenv/versions/3.12.4/lib/python3.12/re/__init__.py:307\u001b[0m, in \u001b[0;36m_compile\u001b[0;34m(pattern, flags)\u001b[0m\n\u001b[1;32m    301\u001b[0m     \u001b[38;5;28;01mimport\u001b[39;00m \u001b[38;5;21;01mwarnings\u001b[39;00m\n\u001b[1;32m    302\u001b[0m     warnings\u001b[38;5;241m.\u001b[39mwarn(\u001b[38;5;124m\"\u001b[39m\u001b[38;5;124mThe re.TEMPLATE/re.T flag is deprecated \u001b[39m\u001b[38;5;124m\"\u001b[39m\n\u001b[1;32m    303\u001b[0m             \u001b[38;5;124m\"\u001b[39m\u001b[38;5;124mas it is an undocumented flag \u001b[39m\u001b[38;5;124m\"\u001b[39m\n\u001b[1;32m    304\u001b[0m             \u001b[38;5;124m\"\u001b[39m\u001b[38;5;124mwithout an obvious purpose. \u001b[39m\u001b[38;5;124m\"\u001b[39m\n\u001b[1;32m    305\u001b[0m             \u001b[38;5;124m\"\u001b[39m\u001b[38;5;124mDon\u001b[39m\u001b[38;5;124m'\u001b[39m\u001b[38;5;124mt use it.\u001b[39m\u001b[38;5;124m\"\u001b[39m,\n\u001b[1;32m    306\u001b[0m             \u001b[38;5;167;01mDeprecationWarning\u001b[39;00m)\n\u001b[0;32m--> 307\u001b[0m p \u001b[38;5;241m=\u001b[39m \u001b[43m_compiler\u001b[49m\u001b[38;5;241;43m.\u001b[39;49m\u001b[43mcompile\u001b[49m\u001b[43m(\u001b[49m\u001b[43mpattern\u001b[49m\u001b[43m,\u001b[49m\u001b[43m \u001b[49m\u001b[43mflags\u001b[49m\u001b[43m)\u001b[49m\n\u001b[1;32m    308\u001b[0m \u001b[38;5;28;01mif\u001b[39;00m flags \u001b[38;5;241m&\u001b[39m DEBUG:\n\u001b[1;32m    309\u001b[0m     \u001b[38;5;28;01mreturn\u001b[39;00m p\n",
      "File \u001b[0;32m~/.pyenv/versions/3.12.4/lib/python3.12/re/_compiler.py:745\u001b[0m, in \u001b[0;36mcompile\u001b[0;34m(p, flags)\u001b[0m\n\u001b[1;32m    743\u001b[0m \u001b[38;5;28;01mif\u001b[39;00m isstring(p):\n\u001b[1;32m    744\u001b[0m     pattern \u001b[38;5;241m=\u001b[39m p\n\u001b[0;32m--> 745\u001b[0m     p \u001b[38;5;241m=\u001b[39m \u001b[43m_parser\u001b[49m\u001b[38;5;241;43m.\u001b[39;49m\u001b[43mparse\u001b[49m\u001b[43m(\u001b[49m\u001b[43mp\u001b[49m\u001b[43m,\u001b[49m\u001b[43m \u001b[49m\u001b[43mflags\u001b[49m\u001b[43m)\u001b[49m\n\u001b[1;32m    746\u001b[0m \u001b[38;5;28;01melse\u001b[39;00m:\n\u001b[1;32m    747\u001b[0m     pattern \u001b[38;5;241m=\u001b[39m \u001b[38;5;28;01mNone\u001b[39;00m\n",
      "File \u001b[0;32m~/.pyenv/versions/3.12.4/lib/python3.12/re/_parser.py:979\u001b[0m, in \u001b[0;36mparse\u001b[0;34m(str, flags, state)\u001b[0m\n\u001b[1;32m    976\u001b[0m state\u001b[38;5;241m.\u001b[39mflags \u001b[38;5;241m=\u001b[39m flags\n\u001b[1;32m    977\u001b[0m state\u001b[38;5;241m.\u001b[39mstr \u001b[38;5;241m=\u001b[39m \u001b[38;5;28mstr\u001b[39m\n\u001b[0;32m--> 979\u001b[0m p \u001b[38;5;241m=\u001b[39m \u001b[43m_parse_sub\u001b[49m\u001b[43m(\u001b[49m\u001b[43msource\u001b[49m\u001b[43m,\u001b[49m\u001b[43m \u001b[49m\u001b[43mstate\u001b[49m\u001b[43m,\u001b[49m\u001b[43m \u001b[49m\u001b[43mflags\u001b[49m\u001b[43m \u001b[49m\u001b[38;5;241;43m&\u001b[39;49m\u001b[43m \u001b[49m\u001b[43mSRE_FLAG_VERBOSE\u001b[49m\u001b[43m,\u001b[49m\u001b[43m \u001b[49m\u001b[38;5;241;43m0\u001b[39;49m\u001b[43m)\u001b[49m\n\u001b[1;32m    980\u001b[0m p\u001b[38;5;241m.\u001b[39mstate\u001b[38;5;241m.\u001b[39mflags \u001b[38;5;241m=\u001b[39m fix_flags(\u001b[38;5;28mstr\u001b[39m, p\u001b[38;5;241m.\u001b[39mstate\u001b[38;5;241m.\u001b[39mflags)\n\u001b[1;32m    982\u001b[0m \u001b[38;5;28;01mif\u001b[39;00m source\u001b[38;5;241m.\u001b[39mnext \u001b[38;5;129;01mis\u001b[39;00m \u001b[38;5;129;01mnot\u001b[39;00m \u001b[38;5;28;01mNone\u001b[39;00m:\n",
      "File \u001b[0;32m~/.pyenv/versions/3.12.4/lib/python3.12/re/_parser.py:460\u001b[0m, in \u001b[0;36m_parse_sub\u001b[0;34m(source, state, verbose, nested)\u001b[0m\n\u001b[1;32m    458\u001b[0m start \u001b[38;5;241m=\u001b[39m source\u001b[38;5;241m.\u001b[39mtell()\n\u001b[1;32m    459\u001b[0m \u001b[38;5;28;01mwhile\u001b[39;00m \u001b[38;5;28;01mTrue\u001b[39;00m:\n\u001b[0;32m--> 460\u001b[0m     itemsappend(\u001b[43m_parse\u001b[49m\u001b[43m(\u001b[49m\u001b[43msource\u001b[49m\u001b[43m,\u001b[49m\u001b[43m \u001b[49m\u001b[43mstate\u001b[49m\u001b[43m,\u001b[49m\u001b[43m \u001b[49m\u001b[43mverbose\u001b[49m\u001b[43m,\u001b[49m\u001b[43m \u001b[49m\u001b[43mnested\u001b[49m\u001b[43m \u001b[49m\u001b[38;5;241;43m+\u001b[39;49m\u001b[43m \u001b[49m\u001b[38;5;241;43m1\u001b[39;49m\u001b[43m,\u001b[49m\n\u001b[1;32m    461\u001b[0m \u001b[43m                       \u001b[49m\u001b[38;5;129;43;01mnot\u001b[39;49;00m\u001b[43m \u001b[49m\u001b[43mnested\u001b[49m\u001b[43m \u001b[49m\u001b[38;5;129;43;01mand\u001b[39;49;00m\u001b[43m \u001b[49m\u001b[38;5;129;43;01mnot\u001b[39;49;00m\u001b[43m \u001b[49m\u001b[43mitems\u001b[49m\u001b[43m)\u001b[49m)\n\u001b[1;32m    462\u001b[0m     \u001b[38;5;28;01mif\u001b[39;00m \u001b[38;5;129;01mnot\u001b[39;00m sourcematch(\u001b[38;5;124m\"\u001b[39m\u001b[38;5;124m|\u001b[39m\u001b[38;5;124m\"\u001b[39m):\n\u001b[1;32m    463\u001b[0m         \u001b[38;5;28;01mbreak\u001b[39;00m\n",
      "File \u001b[0;32m~/.pyenv/versions/3.12.4/lib/python3.12/re/_parser.py:862\u001b[0m, in \u001b[0;36m_parse\u001b[0;34m(source, state, verbose, nested, first)\u001b[0m\n\u001b[1;32m    859\u001b[0m     group \u001b[38;5;241m=\u001b[39m \u001b[38;5;28;01mNone\u001b[39;00m\n\u001b[1;32m    860\u001b[0m sub_verbose \u001b[38;5;241m=\u001b[39m ((verbose \u001b[38;5;129;01mor\u001b[39;00m (add_flags \u001b[38;5;241m&\u001b[39m SRE_FLAG_VERBOSE)) \u001b[38;5;129;01mand\u001b[39;00m\n\u001b[1;32m    861\u001b[0m                \u001b[38;5;129;01mnot\u001b[39;00m (del_flags \u001b[38;5;241m&\u001b[39m SRE_FLAG_VERBOSE))\n\u001b[0;32m--> 862\u001b[0m p \u001b[38;5;241m=\u001b[39m \u001b[43m_parse_sub\u001b[49m\u001b[43m(\u001b[49m\u001b[43msource\u001b[49m\u001b[43m,\u001b[49m\u001b[43m \u001b[49m\u001b[43mstate\u001b[49m\u001b[43m,\u001b[49m\u001b[43m \u001b[49m\u001b[43msub_verbose\u001b[49m\u001b[43m,\u001b[49m\u001b[43m \u001b[49m\u001b[43mnested\u001b[49m\u001b[43m \u001b[49m\u001b[38;5;241;43m+\u001b[39;49m\u001b[43m \u001b[49m\u001b[38;5;241;43m1\u001b[39;49m\u001b[43m)\u001b[49m\n\u001b[1;32m    863\u001b[0m \u001b[38;5;28;01mif\u001b[39;00m \u001b[38;5;129;01mnot\u001b[39;00m source\u001b[38;5;241m.\u001b[39mmatch(\u001b[38;5;124m\"\u001b[39m\u001b[38;5;124m)\u001b[39m\u001b[38;5;124m\"\u001b[39m):\n\u001b[1;32m    864\u001b[0m     \u001b[38;5;28;01mraise\u001b[39;00m source\u001b[38;5;241m.\u001b[39merror(\u001b[38;5;124m\"\u001b[39m\u001b[38;5;124mmissing ), unterminated subpattern\u001b[39m\u001b[38;5;124m\"\u001b[39m,\n\u001b[1;32m    865\u001b[0m                        source\u001b[38;5;241m.\u001b[39mtell() \u001b[38;5;241m-\u001b[39m start)\n",
      "File \u001b[0;32m~/.pyenv/versions/3.12.4/lib/python3.12/re/_parser.py:460\u001b[0m, in \u001b[0;36m_parse_sub\u001b[0;34m(source, state, verbose, nested)\u001b[0m\n\u001b[1;32m    458\u001b[0m start \u001b[38;5;241m=\u001b[39m source\u001b[38;5;241m.\u001b[39mtell()\n\u001b[1;32m    459\u001b[0m \u001b[38;5;28;01mwhile\u001b[39;00m \u001b[38;5;28;01mTrue\u001b[39;00m:\n\u001b[0;32m--> 460\u001b[0m     itemsappend(\u001b[43m_parse\u001b[49m\u001b[43m(\u001b[49m\u001b[43msource\u001b[49m\u001b[43m,\u001b[49m\u001b[43m \u001b[49m\u001b[43mstate\u001b[49m\u001b[43m,\u001b[49m\u001b[43m \u001b[49m\u001b[43mverbose\u001b[49m\u001b[43m,\u001b[49m\u001b[43m \u001b[49m\u001b[43mnested\u001b[49m\u001b[43m \u001b[49m\u001b[38;5;241;43m+\u001b[39;49m\u001b[43m \u001b[49m\u001b[38;5;241;43m1\u001b[39;49m\u001b[43m,\u001b[49m\n\u001b[1;32m    461\u001b[0m \u001b[43m                       \u001b[49m\u001b[38;5;129;43;01mnot\u001b[39;49;00m\u001b[43m \u001b[49m\u001b[43mnested\u001b[49m\u001b[43m \u001b[49m\u001b[38;5;129;43;01mand\u001b[39;49;00m\u001b[43m \u001b[49m\u001b[38;5;129;43;01mnot\u001b[39;49;00m\u001b[43m \u001b[49m\u001b[43mitems\u001b[49m\u001b[43m)\u001b[49m)\n\u001b[1;32m    462\u001b[0m     \u001b[38;5;28;01mif\u001b[39;00m \u001b[38;5;129;01mnot\u001b[39;00m sourcematch(\u001b[38;5;124m\"\u001b[39m\u001b[38;5;124m|\u001b[39m\u001b[38;5;124m\"\u001b[39m):\n\u001b[1;32m    463\u001b[0m         \u001b[38;5;28;01mbreak\u001b[39;00m\n",
      "File \u001b[0;32m~/.pyenv/versions/3.12.4/lib/python3.12/re/_parser.py:544\u001b[0m, in \u001b[0;36m_parse\u001b[0;34m(source, state, verbose, nested, first)\u001b[0m\n\u001b[1;32m    541\u001b[0m         \u001b[38;5;28;01mcontinue\u001b[39;00m\n\u001b[1;32m    543\u001b[0m \u001b[38;5;28;01mif\u001b[39;00m this[\u001b[38;5;241m0\u001b[39m] \u001b[38;5;241m==\u001b[39m \u001b[38;5;124m\"\u001b[39m\u001b[38;5;130;01m\\\\\u001b[39;00m\u001b[38;5;124m\"\u001b[39m:\n\u001b[0;32m--> 544\u001b[0m     code \u001b[38;5;241m=\u001b[39m \u001b[43m_escape\u001b[49m\u001b[43m(\u001b[49m\u001b[43msource\u001b[49m\u001b[43m,\u001b[49m\u001b[43m \u001b[49m\u001b[43mthis\u001b[49m\u001b[43m,\u001b[49m\u001b[43m \u001b[49m\u001b[43mstate\u001b[49m\u001b[43m)\u001b[49m\n\u001b[1;32m    545\u001b[0m     subpatternappend(code)\n\u001b[1;32m    547\u001b[0m \u001b[38;5;28;01melif\u001b[39;00m this \u001b[38;5;129;01mnot\u001b[39;00m \u001b[38;5;129;01min\u001b[39;00m SPECIAL_CHARS:\n",
      "File \u001b[0;32m~/.pyenv/versions/3.12.4/lib/python3.12/re/_parser.py:436\u001b[0m, in \u001b[0;36m_escape\u001b[0;34m(source, escape, state)\u001b[0m\n\u001b[1;32m    434\u001b[0m \u001b[38;5;28;01mif\u001b[39;00m group \u001b[38;5;241m<\u001b[39m state\u001b[38;5;241m.\u001b[39mgroups:\n\u001b[1;32m    435\u001b[0m     \u001b[38;5;28;01mif\u001b[39;00m \u001b[38;5;129;01mnot\u001b[39;00m state\u001b[38;5;241m.\u001b[39mcheckgroup(group):\n\u001b[0;32m--> 436\u001b[0m         \u001b[38;5;28;01mraise\u001b[39;00m source\u001b[38;5;241m.\u001b[39merror(\u001b[38;5;124m\"\u001b[39m\u001b[38;5;124mcannot refer to an open group\u001b[39m\u001b[38;5;124m\"\u001b[39m,\n\u001b[1;32m    437\u001b[0m                            \u001b[38;5;28mlen\u001b[39m(escape))\n\u001b[1;32m    438\u001b[0m     state\u001b[38;5;241m.\u001b[39mchecklookbehindgroup(group, source)\n\u001b[1;32m    439\u001b[0m     \u001b[38;5;28;01mreturn\u001b[39;00m GROUPREF, group\n",
      "\u001b[0;31merror\u001b[0m: cannot refer to an open group at position 5"
     ]
    }
   ],
   "source": [
    "text = \"текст с (круглыми скобками), но без вложенных (круглых скобок)\"\n",
    "text2 = \"это обычный текст, (взятый в (круглые) скобки, ничего (необычного)) :))\"\n",
    "\n",
    "# если нет вложенных, то\n",
    "for m in re.finditer(r\"\\(.+?\\)\", text):\n",
    "    print(m.group())\n",
    "\n",
    "# если есть, то я не знаю, есть такой набросок\n",
    "# работает в regex101, но даже так не ищет вложенные, и если на конце больше 1 ), то включает их все\n",
    "for m in re.finditer(r\"(\\(.*\\1*.*\\))\", text2):\n",
    "    print(m.group())"
   ]
  },
  {
   "cell_type": "markdown",
   "metadata": {
    "jukit_cell_id": "CxMQACMEac"
   },
   "source": [
    "#### Задача 4.\n",
    "\n",
    "С помощью os.listdir() обходим все файлы с музыкой в папке; при этом в папке, которую мы обходим, нужные нам файлы называются в таком формате:\n",
    "\n",
    "    имя исполнителя - номер песни - название песни.mp3\n",
    "    \n",
    "(при этом дефисы могут попасться как в имени исполнителя, так и в названии песни тоже). Программа должна:\n",
    "\n",
    "1. Обрабатывать только файлы, которые удовлетворяют этому шаблону (открывать их не будем, давайте будем просто сообщать, что X - это песенка исполнителя Y)\n",
    "2. По итогам работы собрать статистику с перечнем исполнителей и их песен в виде:\n",
    "\n",
    "        имя исполнителя:\n",
    "            номер песни. название песни\n",
    "        имя исполнителя:\n",
    "            номер песни. название песни"
   ]
  },
  {
   "cell_type": "code",
   "execution_count": 95,
   "metadata": {
    "jukit_cell_id": "97JkHzeKQZ"
   },
   "outputs": [
    {
     "name": "stdout",
     "output_type": "stream",
     "text": [
      "another singer:\n",
      "\t2. song 2\n",
      "\t3. song 3\n",
      "\t1. song 1\n",
      "new-singer:\n",
      "\t2. song-2\n",
      "\t1. song-1\n",
      "singer:\n",
      "\t1. song 1\n",
      "\t2. song 2\n"
     ]
    }
   ],
   "source": [
    "import os\n",
    "\n",
    "singers: dict[str, dict[str, int]] = {}\n",
    "\n",
    "for d in os.listdir(\"fake_mp3s\"):\n",
    "    mp3 = re.search(r\"mp3\", d)\n",
    "    if not mp3:\n",
    "        continue\n",
    "    m = re.search(r\".+(?= - \\d)\", d)\n",
    "    if m:\n",
    "        if m.group() not in singers:\n",
    "           singers[m.group()] = {}\n",
    "\n",
    "        i = re.search(r\"(?<= - )\\d+(?= - )\", d)\n",
    "        if i:\n",
    "            n = re.search(r\"(?<=\\d - ).+?(?=\\.mp3)\", d)\n",
    "            if n:\n",
    "                singers[m.group()][n.group()] = i.group()\n",
    "\n",
    "for (singer, songs) in singers.items():\n",
    "    print(f\"{singer}:\")\n",
    "    for (name, index) in songs.items():\n",
    "        print(f\"\\t{index}. {name}\")\n"
   ]
  },
  {
   "cell_type": "markdown",
   "metadata": {
    "jukit_cell_id": "sN0068583g"
   },
   "source": [
    "#### Задача 5. \n",
    "\n",
    "Найдите в тексте смайлики вида \\*\\_\\*, \\^\\_\\^, T\\_T (а смайлики вида o\\_O нам не нужны)."
   ]
  },
  {
   "cell_type": "code",
   "execution_count": 18,
   "metadata": {
    "jukit_cell_id": "vD4e9kTLWD"
   },
   "outputs": [
    {
     "name": "stdout",
     "output_type": "stream",
     "text": [
      "*_*\n",
      "^_^\n",
      "T_T\n",
      "._.\n"
     ]
    }
   ],
   "source": [
    "text = \"*_*, ^_^, T_T o_O ._.\"\n",
    "\n",
    "for m in re.finditer(r'(.)_\\1', text):\n",
    "    print(m.group())"
   ]
  },
  {
   "cell_type": "markdown",
   "metadata": {
    "jukit_cell_id": "4GlEwvIOQi"
   },
   "source": [
    "#### Задача 6. \n",
    "\n",
    "Пишем программу - помощник обнаружения тавтологии: ищем в тексте повторяющиеся слова, которые находятся на расстоянии от 2 до 10 слов друг от друга. В простом случае считаем, что пунктуации у нас нет, в сложном можете попробовать ее тоже учесть. "
   ]
  },
  {
   "cell_type": "code",
   "execution_count": 17,
   "metadata": {
    "jukit_cell_id": "6MH4rx43GT"
   },
   "outputs": [
    {
     "name": "stdout",
     "output_type": "stream",
     "text": [
      "текст, \n",
      "тавтология, \n",
      "тавтологию, \n",
      "надоела \n"
     ]
    }
   ],
   "source": [
    "# your code here\n",
    "text = \"текст, хороший текст, текст, где есть тавтология, никто не любит тавтологию, надоела эта тавтология, надоела. один, два, три, четыре, пять, шесть, семь, восемь, девять, десять. тавтология\"\n",
    "\n",
    "# \\b(\\w{2,})\\w{0,3}[\\b,.!:; ]+ — ищем слово, его границы — \\b и пунктуация, корень слова в группе () 1, за группой — возможное окончание\n",
    "# (?=(?:\\w+[\\b,. !:;]+){2,10}\\1) — lookahead, ищем от 2 до 10 слов, после которых \\1 (группа 1)\n",
    "for m in re.finditer(r\"\\b(\\w{2,})\\w{0,3}[\\b,.!:; ]+(?=(?:\\w+[\\b,. !:;]+){2,10}\\1)\", text):\n",
    "    print(m.group())"
   ]
  },
  {
   "cell_type": "markdown",
   "metadata": {
    "jukit_cell_id": "wsnnM7vws6"
   },
   "source": [
    "#### Задача 7. \n",
    "\n",
    "Представим, что есть некоторые данные, представляющие из себя последовательность символов. С помощью регулярного выражения надо найти в них подпоследовательности, являющимися палиндромами, длины не менее 6-ти и не более 11 символов. (Подумайте, а хорошо ли подходят регулярные выражения для решения этой задачи?)"
   ]
  },
  {
   "cell_type": "code",
   "execution_count": 22,
   "metadata": {
    "jukit_cell_id": "sTLOEkXLNQ"
   },
   "outputs": [
    {
     "name": "stdout",
     "output_type": "stream",
     "text": [
      "123321\n",
      "1234321\n",
      "12344321\n",
      "123454321\n",
      "1234554321\n",
      "12345654321\n"
     ]
    }
   ],
   "source": [
    "# Подумайте, а хорошо ли подходят регулярные выражения для решения этой задачи?\n",
    "# После домашек кажется, что регулярные выражения в приципе не для многих задач подходят\n",
    "# Ну а вообще, если мы знаем, что палиндром длиной 6-11, то проблем нет, а если он не заданной длины, то задача становится очень сложной,\n",
    "# Потому что в re нет рекурсий\n",
    "\n",
    "text = \"11\\n\\\n",
    "121\\n\\\n",
    "1221\\n\\\n",
    "12321\\n\\\n",
    "123321\\n\\\n",
    "1234321\\n\\\n",
    "12344321\\n\\\n",
    "123454321\\n\\\n",
    "1234554321\\n\\\n",
    "12345654321\\n\"\n",
    "for m in re.finditer(r\"(.)(.)(.)(.)?(.)?.?\\5?\\4?\\3\\2\\1\", text):\n",
    "    print(m.group())"
   ]
  },
  {
   "cell_type": "markdown",
   "metadata": {
    "jukit_cell_id": "0q5bLNZnp1"
   },
   "source": [
    "#### Задача 8.\n",
    "\n",
    "Найти в тексте все употребления слов \"понравилось\" и \"впечатлило\" такие, что непосредственно перед ними НЕ стоит \"не\". Время прошедшее, но род/число могут быть любыми."
   ]
  },
  {
   "cell_type": "code",
   "execution_count": 17,
   "metadata": {
    "jukit_cell_id": "8r598ZCZC1"
   },
   "outputs": [
    {
     "name": "stdout",
     "output_type": "stream",
     "text": [
      "понравилось\n",
      "впечатлило\n",
      "понравилась\n",
      "впечатлил\n",
      "впечатлила\n",
      "понравился\n",
      "впечатлили\n",
      "понравились\n"
     ]
    }
   ],
   "source": [
    "# your code here\n",
    "text = \"мне понравилось, меня впечатлило, мне не понравилось, меня не впечатлило, мне понравилась игра, меня впечатлил его поступок, она меня впечатлила, он мне понравился, они меня впечатлили, они меня не впечатлили, они мне не понравились, они мне понравились\"\n",
    "\n",
    "for m in re.finditer(r\"(?<! [Нн][Ее] )(?:понравил(?:ось|ась|ся|ись)|впечатлил(?:а|о|и)?)\", text):\n",
    "    print(m.group())"
   ]
  },
  {
   "cell_type": "markdown",
   "metadata": {
    "jukit_cell_id": "XeBXkC2asB"
   },
   "source": [
    "#### Задача 9. \n",
    "\n",
    "Дан текст, каждая строка является именем некоторого файла (без директории). Напишите регулярное выражение, которое захватывает имена файлов без расширения, при этом интерес представляют только те файлы, у которых расширение не .bat и не .txt."
   ]
  },
  {
   "cell_type": "code",
   "execution_count": 125,
   "metadata": {
    "jukit_cell_id": "4M7XXKrR6A"
   },
   "outputs": [
    {
     "name": "stdout",
     "output_type": "stream",
     "text": [
      "hw06\n",
      "hw06\n",
      "ad\n"
     ]
    }
   ],
   "source": [
    "with open(\"files.txt\", \"r\") as f:\n",
    "    for line in f.readlines():\n",
    "        m = re.search(r\"(.+)\\.(?!txt|bat)\", line)\n",
    "        if m:\n",
    "            print(m.group(1))"
   ]
  },
  {
   "cell_type": "markdown",
   "metadata": {
    "jukit_cell_id": "kmxS2RF3dJ"
   },
   "source": [
    "#### Задача 10.\n",
    "\n",
    "Дан текст, каждая строка которого является полным или относительным путём к некоторому файлу.\n",
    "\n",
    "Напишите регулярное выражение, которое захватывает:\n",
    "1. директорию, в которой лежит файл;\n",
    "2. только имя файла (без расширения);\n",
    "3. только расширение;\n",
    "При этом:\n",
    "- нужны только файлы, у которых расширение не .bat и не .txt.\n",
    "- пути могут быть как в Unix, так и в Windows формате (https://ru.wikipedia.org/wiki/Путь_к_файлу).\n",
    "- расширение, если оно есть, начинается с точки. Файлы могут быть без расширения вовсе (в этом случае на месте расширения должно стоять None или \"\")\n",
    "- скрытые файлы могут начинаться с точки (например, .bashrc - и это не расширение)\n",
    "- относительный путь может содержать только название файла, в этом случае вместо директории выведите None или \"\"\n",
    "- в остальных случаях директория должна заканчиаться на разделитель директорий. Наприемр, в Unix-системах - \"/\" - это путь к корневой директории.\n",
    "\n",
    "Требуется получить список из кортежей, каждый кортеж содержит извлечённые данные.\n",
    "\n",
    "(Расширение в целом может содержать всё, что угодно, но разделителей директорий не может быть в именах файлах и расширениях. https://en.wikipedia.org/wiki/List_of_filename_extensions )"
   ]
  },
  {
   "cell_type": "code",
   "execution_count": 49,
   "metadata": {
    "jukit_cell_id": "JSUnE5Mtvr"
   },
   "outputs": [
    {
     "data": {
      "text/plain": [
       "[('uni_homework/HW04/', 'hw04', '.py'),\n",
       " (None, 'hw04', '.py'),\n",
       " ('~/git/uni_homework/HW04/.jukit/', 'hw04_outhist', '.json'),\n",
       " ('~/git/uni_homework/HW03/', 'hw03', '.ipynb'),\n",
       " ('uni_homework/HW03/', 'hw03', '.py'),\n",
       " ('/Users/egor/uni_homework/HW06/', 'hw06', '.ipynb'),\n",
       " ('~/git/uni_homework/HW06/', 'hw06', '.py'),\n",
       " ('~/git/uni_homework/HW06/fake_mp3s/', 'another singer - 2 - song 2', '.mp3'),\n",
       " ('uni_homework/HW06/fake_mp3s/', 'another singer - 3 - song 3', '.mp3'),\n",
       " ('/Users/egor/uni_homework/HW06/fake_mp3s/', 'not_a_song', '.mp4'),\n",
       " ('uni_homework/HW06/fake_mp3s/', 'new-singer - 2 - song-2', '.mp3'),\n",
       " (None, 'new-singer - 2 - song-2', '.mp3'),\n",
       " ('/Users/egor/uni_homework/HW06/fake_mp3s/', 'singer - 1 - song 1', '.mp3'),\n",
       " ('uni_homework/HW06/fake_mp3s/', 'singer - 2 - song 2', '.mp3'),\n",
       " ('uni_homework/HW06/fake_mp3s/', 'new-singer - 1 - song-1', '.mp3'),\n",
       " ('uni_homework/.jukit/', 'hw06_outhist', '.json'),\n",
       " ('/Users/egor/uni_homework/HW06/fake_mp3s/', 'author - 1 - video', '.mp4'),\n",
       " ('uni_homework/HW06/fake_mp3s/', 'another singer - 1 - song 1', '.mp3'),\n",
       " ('C:tipa\\\\another\\\\Windows\\\\', 'path', '.docx')]"
      ]
     },
     "execution_count": 49,
     "metadata": {},
     "output_type": "execute_result"
    }
   ],
   "source": [
    "def get_paths(path):\n",
    "    lst = []\n",
    "    with open(path) as f:\n",
    "        for line in f.readlines():\n",
    "            if re.search(r\"(.bat\\n|.txt\\n)\", line):\n",
    "                continue\n",
    "            dir = re.search(r\".+[/\\\\](?!.*[\\\\/])\", line)\n",
    "            if not dir:\n",
    "                dir = None\n",
    "            else:\n",
    "                dir = dir.group()\n",
    "            name = re.search(r\"[^/\\\\]+(?=\\..*$)\", line)\n",
    "            if not name:\n",
    "                name = None\n",
    "            else:\n",
    "                name = name.group() \n",
    "            ext = re.search(r\"\\.[^\\.\\n]+(?=$)\", line)\n",
    "            if not ext:\n",
    "                ext = None\n",
    "            else:\n",
    "                ext = ext.group()\n",
    "            lst.append((dir, name, ext))\n",
    "    return lst\n",
    "\n",
    "get_paths(\"dirs.txt\")\n",
    "        "
   ]
  },
  {
   "cell_type": "markdown",
   "metadata": {
    "jukit_cell_id": "rwwwzhitTI"
   },
   "source": [
    "#### Задача 11.\n",
    "\n",
    "Увеличить все встретившиеся в тексте четные числа на 1, а нечетные на 2, в том числе и отрицательные. Перед числом может стоять знак. Считаем, что между знаком и числом пробела нет."
   ]
  },
  {
   "cell_type": "code",
   "execution_count": 6,
   "metadata": {
    "jukit_cell_id": "As9oAyAuQV"
   },
   "outputs": [
    {
     "name": "stdout",
     "output_type": "stream",
     "text": [
      "['1', '2', '3', '-1', '101', '-102', '-10']\n"
     ]
    },
    {
     "data": {
      "text/plain": [
       "'2 банан, 3 банана, 4 банана, 0 банан, 102 банан, -101 банана, -9 бананов'"
      ]
     },
     "execution_count": 6,
     "metadata": {},
     "output_type": "execute_result"
    }
   ],
   "source": [
    "# your code here\n",
    "text = \"1 банан, 2 банана, 3 банана, -1 банан, 101 банан, -102 банана, -10 бананов\"\n",
    "print(re.findall(r\"-?\\d+\", text))\n",
    "text = re.sub(r\"-?\\d+\", lambda m: str(int(m.group()) + 1), text)\n",
    "text"
   ]
  },
  {
   "cell_type": "markdown",
   "metadata": {
    "jukit_cell_id": "SXPJzQ1KBb"
   },
   "source": [
    "#### Задача 12.\n",
    "\n",
    "1. Текст состоит из строк (lines). Удалите одним регулярным выражением все пробелы в началах всех строк, и все пробелы в концах всех строк.\n",
    "2. То же, но теперь не только обычные пробелы, а все пробельные символы. При этом, дополнительно нужно удалить все пустые строки (пустые вообще, а так же состоящие только из пробельных символов). Попробуйте сделать это за одну операцию замены.\n",
    "3. Сделайте то же самое без регулярных выражений в одну строчку, используя bilt-in функцию filter."
   ]
  },
  {
   "cell_type": "code",
   "execution_count": 53,
   "metadata": {
    "jukit_cell_id": "5C27aYA7tQ"
   },
   "outputs": [],
   "source": [
    "# 1\n",
    "text = []\n",
    "with open(\"text.txt\", \"r\") as f:\n",
    "    for line in f.readlines():   \n",
    "        text.append(re.sub(r\"(^ *| *$)\", \"\", line))\n",
    "\n",
    "with open(\"text1.txt\", \"w\") as f:\n",
    "    for line in text:\n",
    "        f.write(line)\n"
   ]
  },
  {
   "cell_type": "code",
   "execution_count": 62,
   "metadata": {},
   "outputs": [],
   "source": [
    "# 2\n",
    "text = []\n",
    "with open(\"text.txt\", \"r\") as f:\n",
    "    for line in f.readlines():   \n",
    "        text.append(re.sub(r\"(^\\s*|[ \\f\\r\\t\\v]*$)\", \"\", line))\n",
    "\n",
    "with open(\"text2.txt\", \"w\") as f:\n",
    "    for line in text:\n",
    "        f.write(line)\n"
   ]
  },
  {
   "cell_type": "code",
   "execution_count": 61,
   "metadata": {},
   "outputs": [
    {
     "name": "stdout",
     "output_type": "stream",
     "text": [
      "Это предложение не содержит пробелов вначале и в конце\n",
      "Это же содержит в конце\n",
      "А это в начале\n",
      "Это вообще начинается с таба,   и кончается им же\n",
      "Выше пустая строка с табами и пробелами\n",
      "Выше пустая строка без ничего\n",
      "\n"
     ]
    }
   ],
   "source": [
    "# 3\n",
    "with open(\"text.txt\", \"r\") as f:\n",
    "    # for line in f.readlines():\n",
    "    #     line = list(filter(lambda x: x not in [\"\\n\", \"\\t\", \"\\r\", \" \", \"\\f\", \"\\v\"], line))\n",
    "    #     a = ''.join(line)\n",
    "    #     print(a)\n",
    "\n",
    "    # Немного читерства с использванием map(), зато в одну строчку и есть фильтер.\n",
    "    # Просто не могу придумать, возможно ли передать в фильтр функцию, которая бы смогла удалить только начальные и конечные пробелы\n",
    "    print(\"\".join(list(filter(lambda l: l.strip() != \"\", map(lambda l: l.strip() + \"\\n\", f.readlines())))))\n",
    "    \n",
    "\n"
   ]
  },
  {
   "cell_type": "code",
   "execution_count": null,
   "metadata": {},
   "outputs": [],
   "source": []
  }
 ],
 "metadata": {
  "anaconda-cloud": {},
  "kernelspec": {
   "display_name": "3.12.4",
   "language": "python",
   "name": "python3"
  },
  "language_info": {
   "codemirror_mode": {
    "name": "ipython",
    "version": 3
   },
   "file_extension": ".py",
   "mimetype": "text/x-python",
   "name": "python",
   "nbconvert_exporter": "python",
   "pygments_lexer": "ipython3",
   "version": "3.12.4"
  }
 },
 "nbformat": 4,
 "nbformat_minor": 4
}
