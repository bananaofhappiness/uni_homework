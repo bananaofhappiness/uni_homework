{
 "cells": [
  {
   "cell_type": "markdown",
   "metadata": {
    "jukit_cell_id": "LHKoeFm72l"
   },
   "source": [
    "### Задача 1 (10 баллов)\n",
    "\n",
    "Вы разрабатываете игру, в которой главный герой — археолог и исследователь древних цивилизаций. Его цель — собрать и исследовать артефакты, которые разбросаны по разным древним руинам. Ваша задача — создать класс ArtifactCollector, который будет управлять коллекцией артефактов. Эта коллекция должна быть итерируемой, поддерживать сортировку и фильтрацию артефактов по разным критериям.\n",
    "\n",
    "Требования:\n",
    "\n",
    "Создайте класс Artifact, который представляет артефакт. Артефакт должен иметь следующие свойства:\n",
    "\n",
    "- name — название артефакта.\n",
    "- age — возраст артефакта (в годах).\n",
    "- origin — происхождение артефакта (например, \"Egypt\", \"Greece\", \"Aztec\").\n",
    "- rarity — редкость артефакта (например, \"common\", \"rare\", \"legendary\").\n",
    "\n",
    "Создайте класс ArtifactCollector, который управляет коллекцией артефактов. Коллекция должна:\n",
    "\n",
    "- Поддерживать добавление артефактов.\n",
    "- Быть итерируемой (по умолчанию артефакты выводятся в порядке добавления).\n",
    "- Поддерживать сортировку по возрасту артефактов с помощью метода sort_by_age().\n",
    "- Поддерживать фильтрацию артефактов по происхождению с помощью метода filter_by_origin(origin).\n",
    "- Поддерживать фильтрацию по редкости с помощью метода filter_by_rarity(rarity).\n",
    "- Метод reversed должен возвращать артефакты в обратном порядке (например, чтобы археолог мог просмотреть последние найденные).\n",
    "\n",
    "Дополнительное задание (+балл):\n",
    "\n",
    "- Реализуйте возможность находить самый древний артефакт с помощью метода find_oldest().\n",
    "- Добавьте возможность находить артефакт с определённым именем через метод find_by_name(name).\n",
    "\n",
    "Пример использования:\n",
    "\n",
    "\n",
    "#### Создаем артефакты\n",
    "\n",
    "    mask = Artifact(\"Golden Mask\", 3000, \"Egypt\", \"legendary\")\n",
    "    vase = Artifact(\"Ancient Vase\", 2000, \"Greece\", \"rare\")\n",
    "    statue = Artifact(\"Stone Statue\", 1500, \"Aztec\", \"common\")\n",
    "    amulet = Artifact(\"Amulet of Anubis\", 5000, \"Egypt\", \"legendary\")\n",
    "\n",
    "#### Создаем коллекционера артефактов и добавляем в коллекцию\n",
    "\n",
    "    collector = ArtifactCollector()\n",
    "    collector.add_artifact(mask)\n",
    "    collector.add_artifact(vase)\n",
    "    collector.add_artifact(statue)\n",
    "    collector.add_artifact(amulet)\n",
    "\n",
    "#### Итерация по коллекции\n",
    "\n",
    "    print(\"Все артефакты:\")\n",
    "    for artifact in collector:\n",
    "        print(artifact.name)\n",
    "\n",
    "#### Сортировка по возрасту\n",
    "\n",
    "    print(\"\\nАртефакты по возрасту:\")\n",
    "    collector.sort_by_age()\n",
    "    for artifact in collector:\n",
    "        print(f\"{artifact.name}: {artifact.age} лет\")\n",
    "\n",
    "#### Фильтрация по происхождению\n",
    "\n",
    "    print(\"\\nАртефакты из Египта:\")\n",
    "    for artifact in collector.filter_by_origin(\"Egypt\"):\n",
    "        print(artifact.name)\n",
    "\n",
    "#### Самый древний артефакт\n",
    "\n",
    "    oldest = collector.find_oldest()\n",
    "    print(f\"\\nСамый древний артефакт: {oldest.name} ({oldest.age} лет)\")\n",
    "\n",
    "#### Поиск по имени\n",
    "\n",
    "    artifact = collector.find_by_name(\"Ancient Vase\")\n",
    "    if artifact:\n",
    "        print(f\"\\nАртефакт найден: {artifact.name}, {artifact.age} лет, {artifact.origin}\")\n",
    "    else:\n",
    "        print(\"\\nАртефакт не найден\")\n",
    "\n",
    "#### Обратный порядок итерации\n",
    "\n",
    "    print(\"\\nАртефакты в обратном порядке:\")\n",
    "    for artifact in reversed(collector):\n",
    "        print(artifact.name)\n",
    "        \n",
    "Подсказки:\n",
    "\n",
    "Магические методы \\_\\_iter\\_\\_ и \\_\\_reversed\\_\\_ помогут сделать коллекцию итерируемой.\n",
    "\n",
    "Для сортировки и фильтрации используйте генераторы или списковые включения.\n",
    "\n",
    "Для поиска используйте стандартные методы работы с коллекциями (max(), min())."
   ]
  },
  {
   "cell_type": "code",
   "execution_count": 1,
   "metadata": {
    "jukit_cell_id": "l2MxJAkvJ1"
   },
   "outputs": [],
   "source": [
    "from enum import Enum, auto\n",
    "\n",
    "\n",
    "class Origin(Enum):\n",
    "    EGYPT = \"Egypt\"\n",
    "    GREECE = \"Greece\"\n",
    "    AZTEC = \"Aztec\"\n",
    "    RUSSIA = \"Russia\"\n",
    "    CHINA = \"Chine\"\n",
    "    ITALY = \"Italy\"\n",
    "    KAZAKHSTAN = \"Kazakhstan\"\n",
    "    AUSTRALIA = \"Australia\"\n",
    "\n",
    "\n",
    "class Rarity(Enum):\n",
    "    COMMON = auto()\n",
    "    RARE = auto()\n",
    "    EPIC = auto()\n",
    "    LEGENDARY = auto()\n",
    "\n",
    "\n",
    "class Artifact:\n",
    "    def __init__(self, name: str, age: int, origin: Origin, rarity: Rarity):\n",
    "        self.name: str = name\n",
    "        self.age: int = age\n",
    "        self.origin: Origin = origin\n",
    "        self.rarity: Rarity = rarity\n",
    "\n",
    "\n",
    "class ArtifactCollector:\n",
    "    def __init__(self):\n",
    "        self.artifacts: list[Artifact] = []\n",
    "\n",
    "    def add_artifact(self, artifact):\n",
    "        self.artifacts.append(artifact)\n",
    "\n",
    "    def __iter__(self):\n",
    "        for art in self.artifacts:\n",
    "            yield art\n",
    "\n",
    "    def sort_by_age(self):\n",
    "        self.artifacts.sort(key=lambda x: x.age)\n",
    "\n",
    "    def filter_by_origin(self, origin: str | Origin):\n",
    "        for art in filter(lambda art: art.origin == origin or art.origin.value == origin, self.artifacts):\n",
    "            yield art\n",
    "\n",
    "    def filter_by_rarity(self, rarity: str | Rarity):\n",
    "        for art in filter(lambda art: art.rarity == rarity or art.rarity.value == rarity, self.artifacts):\n",
    "            yield art\n",
    "\n",
    "    def __reversed__(self):\n",
    "        for item in reversed(self.artifacts):\n",
    "            yield item\n",
    "\n",
    "    def find_oldest(self):\n",
    "        return max(self.artifacts, key=lambda x: x.age)\n",
    "\n",
    "    def find_by_name(self, name: str):\n",
    "        for art in self.artifacts:\n",
    "            if art.name == name:\n",
    "                return art\n",
    "        return None"
   ]
  },
  {
   "cell_type": "code",
   "execution_count": 2,
   "metadata": {
    "jukit_cell_id": "Gz4Vavh5Ar"
   },
   "outputs": [],
   "source": [
    "mask = Artifact(\"Golden Mask\", 3000, Origin.EGYPT, Rarity.LEGENDARY)\n",
    "vase = Artifact(\"Ancient Vase\", 2000, Origin.GREECE, Rarity.RARE)\n",
    "statue = Artifact(\"Stone Statue\", 1500, Origin.AZTEC, Rarity.COMMON)\n",
    "amulet = Artifact(\"Amulet of Anubis\", 5000, Origin.EGYPT, Rarity.LEGENDARY)\n",
    "\n",
    "collector = ArtifactCollector()\n",
    "collector.add_artifact(mask)\n",
    "collector.add_artifact(vase)\n",
    "collector.add_artifact(statue)\n",
    "collector.add_artifact(amulet)"
   ]
  },
  {
   "cell_type": "code",
   "execution_count": 3,
   "metadata": {
    "jukit_cell_id": "EufBRf9yNA"
   },
   "outputs": [
    {
     "name": "stdout",
     "output_type": "stream",
     "text": [
      "Все артефакты:\n",
      "  Golden Mask\n",
      "  Ancient Vase\n",
      "  Stone Statue\n",
      "  Amulet of Anubis\n"
     ]
    }
   ],
   "source": [
    "print(\"Все артефакты:\")\n",
    "for artifact in collector:\n",
    "    print(f\"  {artifact.name}\")"
   ]
  },
  {
   "cell_type": "code",
   "execution_count": 9,
   "metadata": {
    "jukit_cell_id": "WxUjXxNyXy"
   },
   "outputs": [
    {
     "name": "stdout",
     "output_type": "stream",
     "text": [
      "\n",
      "Артефакты по возрасту:\n",
      "  Stone Statue: 1500 лет\n",
      "  Ancient Vase: 2000 лет\n",
      "  Golden Mask: 3000 лет\n",
      "  Amulet of Anubis: 5000 лет\n"
     ]
    }
   ],
   "source": [
    "print(\"\\nАртефакты по возрасту:\")\n",
    "collector.sort_by_age()\n",
    "for artifact in collector:\n",
    "    print(f\"  {artifact.name}: {artifact.age} лет\")"
   ]
  },
  {
   "cell_type": "code",
   "execution_count": 4,
   "metadata": {
    "jukit_cell_id": "vxGnIqoO8B"
   },
   "outputs": [
    {
     "name": "stdout",
     "output_type": "stream",
     "text": [
      "\n",
      "Артефакты из Египта:\n",
      "  Golden Mask\n",
      "  Amulet of Anubis\n",
      "\n",
      "Артефакты ацтеков:\n",
      "  Stone Statue\n"
     ]
    }
   ],
   "source": [
    "print(\"\\nАртефакты из Египта:\")\n",
    "for artifact in collector.filter_by_origin(\"Egypt\"):\n",
    "    print(f\"  {artifact.name}\")\n",
    "\n",
    "print(\"\\nАртефакты ацтеков:\")\n",
    "for artifact in collector.filter_by_origin(Origin.AZTEC):\n",
    "    print(f\"  {artifact.name}\")"
   ]
  },
  {
   "cell_type": "code",
   "execution_count": 5,
   "metadata": {
    "jukit_cell_id": "fxGNkAyKE8"
   },
   "outputs": [
    {
     "name": "stdout",
     "output_type": "stream",
     "text": [
      "\n",
      "Обычные артефакты:\n",
      "  Stone Statue\n"
     ]
    }
   ],
   "source": [
    "print(\"\\nОбычные артефакты:\")\n",
    "for artifact in collector.filter_by_rarity(Rarity.COMMON):\n",
    "    print(f\"  {artifact.name}\")"
   ]
  },
  {
   "cell_type": "code",
   "execution_count": 6,
   "metadata": {
    "jukit_cell_id": "tFVHMxz7pB"
   },
   "outputs": [
    {
     "name": "stdout",
     "output_type": "stream",
     "text": [
      "\n",
      "Артефакты в обратном порядке:\n",
      "  Amulet of Anubis\n",
      "  Stone Statue\n",
      "  Ancient Vase\n",
      "  Golden Mask\n"
     ]
    }
   ],
   "source": [
    "print(\"\\nАртефакты в обратном порядке:\")\n",
    "for artifact in reversed(collector):\n",
    "    print(f\"  {artifact.name}\")"
   ]
  },
  {
   "cell_type": "code",
   "execution_count": 7,
   "metadata": {
    "jukit_cell_id": "qJjOtU4KUp"
   },
   "outputs": [
    {
     "name": "stdout",
     "output_type": "stream",
     "text": [
      "\n",
      "Самый древний артефакт: Amulet of Anubis (5000 лет)\n"
     ]
    }
   ],
   "source": [
    "oldest = collector.find_oldest()\n",
    "print(f\"\\nСамый древний артефакт: {oldest.name} ({oldest.age} лет)\")"
   ]
  },
  {
   "cell_type": "code",
   "execution_count": 8,
   "metadata": {
    "jukit_cell_id": "8R6L5A0rGl"
   },
   "outputs": [
    {
     "name": "stdout",
     "output_type": "stream",
     "text": [
      "\n",
      "Артефакт найден: Ancient Vase, 2000 лет, Greece\n"
     ]
    }
   ],
   "source": [
    "artifact = collector.find_by_name(\"Ancient Vase\")\n",
    "if artifact:\n",
    "    print(f\"\\nАртефакт найден: {artifact.name}, {artifact.age} лет, {artifact.origin.value}\")\n",
    "else:\n",
    "    print(\"\\nАртефакт не найден\")"
   ]
  },
  {
   "cell_type": "code",
   "execution_count": null,
   "metadata": {},
   "outputs": [],
   "source": []
  }
 ],
 "metadata": {
  "anaconda-cloud": {},
  "kernelspec": {
   "display_name": "Python 3 (ipykernel)",
   "language": "python",
   "name": "python3"
  },
  "language_info": {
   "codemirror_mode": {
    "name": "ipython",
    "version": 3
   },
   "file_extension": ".py",
   "mimetype": "text/x-python",
   "name": "python",
   "nbconvert_exporter": "python",
   "pygments_lexer": "ipython3",
   "version": "3.13.0"
  }
 },
 "nbformat": 4,
 "nbformat_minor": 4
}
